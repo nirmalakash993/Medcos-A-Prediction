{
 "cells": [
  {
   "cell_type": "code",
   "execution_count": 91,
   "id": "f114ef5a",
   "metadata": {},
   "outputs": [],
   "source": [
    "import pandas as pd\n",
    "import requests \n",
    "from bs4 import BeautifulSoup"
   ]
  },
  {
   "cell_type": "code",
   "execution_count": 2,
   "id": "18ac06ed",
   "metadata": {},
   "outputs": [],
   "source": [
    "name1=[]\n",
    "speciality_of_doctor1=[]\n",
    "year_of_experience1=[]\n",
    "location1=[]\n",
    "city1=[]\n",
    "consult_fee1=[]"
   ]
  },
  {
   "cell_type": "code",
   "execution_count": 3,
   "id": "96175ae7",
   "metadata": {},
   "outputs": [],
   "source": [
    "for i in range(1,10):\n",
    "    url = \"https://www.practo.com/delhi/cardiologist?page=\"+str(i)\n",
    "    r= requests.get(url)\n",
    "    soup = BeautifulSoup(r.text, \"lxml\")\n",
    "    box= soup.find(\"div\", class_=\"pure-u-17-24 c-listing__left\")\n",
    "    name_= box.find_all(\"h2\",class_ = \"doctor-name\")\n",
    "    for i in name_:\n",
    "        name__=i.text\n",
    "        name1.append(name__)"
   ]
  },
  {
   "cell_type": "code",
   "execution_count": 4,
   "id": "f8d8d4a2",
   "metadata": {},
   "outputs": [
    {
     "name": "stdout",
     "output_type": "stream",
     "text": [
      "81\n"
     ]
    }
   ],
   "source": [
    "print(len(name1))"
   ]
  },
  {
   "cell_type": "code",
   "execution_count": 6,
   "id": "a8e2c5ac",
   "metadata": {},
   "outputs": [],
   "source": [
    "for i in range(1,10):\n",
    "    url = \"https://www.practo.com/delhi/cardiologist?page=\"+str(i)\n",
    "    r= requests.get(url)\n",
    "    soup = BeautifulSoup(r.text, \"lxml\")\n",
    "    box= soup.find(\"div\", class_=\"pure-u-17-24 c-listing__left\")\n",
    "    ye_= box.find_all(\"div\",{'class' : \"uv2-spacer--xs-top\",'data-qa-id':\"doctor_experience\"})\n",
    "    for i in ye_:\n",
    "        ye__=i.text\n",
    "        year_of_experience1.append(ye__)"
   ]
  },
  {
   "cell_type": "code",
   "execution_count": 8,
   "id": "56e508d3",
   "metadata": {},
   "outputs": [
    {
     "data": {
      "text/plain": [
       "81"
      ]
     },
     "execution_count": 8,
     "metadata": {},
     "output_type": "execute_result"
    }
   ],
   "source": [
    "len(year_of_experience1)"
   ]
  },
  {
   "cell_type": "code",
   "execution_count": 9,
   "id": "43d62e49",
   "metadata": {},
   "outputs": [],
   "source": [
    "for i in range(1,10):\n",
    "    url = \"https://www.practo.com/delhi/cardiologist?page=\"+str(i)\n",
    "    r= requests.get(url)\n",
    "    soup = BeautifulSoup(r.text, \"lxml\")\n",
    "    box= soup.find(\"div\", class_=\"pure-u-17-24 c-listing__left\")\n",
    "    loc_= box.find_all(\"div\",class_ = \"u-bold u-d-inlineblock u-valign--middle\")\n",
    "    for i in loc_:\n",
    "        loc__=i.text\n",
    "        location1.append(loc__)"
   ]
  },
  {
   "cell_type": "code",
   "execution_count": 11,
   "id": "65893578",
   "metadata": {},
   "outputs": [
    {
     "data": {
      "text/plain": [
       "81"
      ]
     },
     "execution_count": 11,
     "metadata": {},
     "output_type": "execute_result"
    }
   ],
   "source": [
    "len(location1)"
   ]
  },
  {
   "cell_type": "code",
   "execution_count": 12,
   "id": "1e802ee0",
   "metadata": {},
   "outputs": [],
   "source": [
    "for i in range(1,10):\n",
    "    url = \"https://www.practo.com/delhi/cardiologist?page=\"+str(i)\n",
    "    r= requests.get(url)\n",
    "    soup = BeautifulSoup(r.text, \"lxml\")\n",
    "    box= soup.find(\"div\", class_=\"pure-u-17-24 c-listing__left\")\n",
    "    fee_= box.find_all(\"span\",{'data-qa-id' : \"consultation_fee\"})\n",
    "    for i in fee_:\n",
    "        fee__=i.text\n",
    "        consult_fee1.append(fee__)"
   ]
  },
  {
   "cell_type": "code",
   "execution_count": 14,
   "id": "18ac6e01",
   "metadata": {},
   "outputs": [
    {
     "name": "stdout",
     "output_type": "stream",
     "text": [
      "81\n"
     ]
    }
   ],
   "source": [
    "print(len(consult_fee1))"
   ]
  },
  {
   "cell_type": "code",
   "execution_count": 16,
   "id": "357bf234",
   "metadata": {},
   "outputs": [
    {
     "name": "stdout",
     "output_type": "stream",
     "text": [
      "                      Name          Years of experience             Location  \\\n",
      "0         Dr. Satbir Singh  24 years experience overall          Okhla,Delhi   \n",
      "1   Dr. Nityanand Tripathi  31 years experience overall         Dwarka,Delhi   \n",
      "2          Dr. K. K. Kapur  44 years experience overall  Shalimar Bagh,Delhi   \n",
      "3          Dr. Amit Mittal  24 years experience overall     Patparganj,Delhi   \n",
      "4            Dr. S K Gupta  40 years experience overall         Dwarka,Delhi   \n",
      "..                     ...                          ...                  ...   \n",
      "76         Dr. Vijay Kumar  45 years experience overall          Okhla,Delhi   \n",
      "77          Dr. Ashok Seth  13 years experience overall          Okhla,Delhi   \n",
      "78         Dr. Manoj Kumar  46 years experience overall     Patparganj,Delhi   \n",
      "79          Dr. Anil Bhatt  13 years experience overall     Patparganj,Delhi   \n",
      "80     Dr. Manish Aggarwal  19 years experience overall     Patparganj,Delhi   \n",
      "\n",
      "   Consultation Fee  \n",
      "0             ₹1500  \n",
      "1              ₹700  \n",
      "2             ₹1500  \n",
      "3             ₹1200  \n",
      "4              ₹700  \n",
      "..              ...  \n",
      "76            ₹1500  \n",
      "77            ₹3000  \n",
      "78            ₹1200  \n",
      "79            ₹1200  \n",
      "80            ₹1000  \n",
      "\n",
      "[81 rows x 4 columns]\n"
     ]
    }
   ],
   "source": [
    "df1= pd.DataFrame({\"Name\":name1,\"Years of experience\":year_of_experience1,\n",
    "                  \"Location\":location1,\"Consultation Fee\":consult_fee1})\n",
    "print(df1)"
   ]
  },
  {
   "cell_type": "code",
   "execution_count": null,
   "id": "2706739c",
   "metadata": {},
   "outputs": [],
   "source": []
  },
  {
   "cell_type": "code",
   "execution_count": 18,
   "id": "36171f26",
   "metadata": {},
   "outputs": [],
   "source": [
    "df1.to_csv(\"Downloads/DELHICARDIOLOGIST.csv\")"
   ]
  },
  {
   "cell_type": "code",
   "execution_count": 92,
   "id": "9eb0353c",
   "metadata": {},
   "outputs": [],
   "source": [
    "name2=[]\n",
    "speciality_of_doctor2=[]\n",
    "year_of_experience2=[]\n",
    "location2=[]\n",
    "city2=[]\n",
    "consult_fee2=[]"
   ]
  },
  {
   "cell_type": "code",
   "execution_count": 3,
   "id": "d3bb4292",
   "metadata": {},
   "outputs": [],
   "source": [
    "for i in range(1,36):\n",
    "    url = \"https://www.practo.com/delhi/dentist?page=\"+str(i)\n",
    "    r= requests.get(url)\n",
    "    soup = BeautifulSoup(r.text, \"lxml\")\n",
    "    box= soup.find(\"div\", class_=\"pure-u-17-24 c-listing__left\")\n",
    "    name_= box.find_all(\"h2\",class_ = \"doctor-name\")\n",
    "    for i in name_:\n",
    "        name__=i.text\n",
    "        name2.append(name__)\n"
   ]
  },
  {
   "cell_type": "code",
   "execution_count": 4,
   "id": "22cb6885",
   "metadata": {},
   "outputs": [
    {
     "name": "stdout",
     "output_type": "stream",
     "text": [
      "350\n"
     ]
    }
   ],
   "source": [
    "print(len(name2))"
   ]
  },
  {
   "cell_type": "code",
   "execution_count": 9,
   "id": "1e93346e",
   "metadata": {},
   "outputs": [],
   "source": [
    "for i in range(1,36):\n",
    "    url = \"https://www.practo.com/delhi/dentist?page=\"+str(i)\n",
    "    r= requests.get(url)\n",
    "    soup = BeautifulSoup(r.text, \"lxml\")\n",
    "    box= soup.find(\"div\", class_=\"pure-u-17-24 c-listing__left\")\n",
    "    ye_= box.find_all(\"div\",{'class' : \"uv2-spacer--xs-top\",'data-qa-id':\"doctor_experience\"})\n",
    "    for i in ye_:\n",
    "        ye__=i.text\n",
    "        year_of_experience2.append(ye__)"
   ]
  },
  {
   "cell_type": "code",
   "execution_count": 10,
   "id": "1746930d",
   "metadata": {},
   "outputs": [
    {
     "data": {
      "text/plain": [
       "350"
      ]
     },
     "execution_count": 10,
     "metadata": {},
     "output_type": "execute_result"
    }
   ],
   "source": [
    "len(year_of_experience2)"
   ]
  },
  {
   "cell_type": "code",
   "execution_count": 11,
   "id": "c1be15f7",
   "metadata": {},
   "outputs": [],
   "source": [
    "for i in range(1,36):\n",
    "    url = \"https://www.practo.com/delhi/dentist?page=\"+str(i)\n",
    "    r= requests.get(url)\n",
    "    soup = BeautifulSoup(r.text, \"lxml\")\n",
    "    box= soup.find(\"div\", class_=\"pure-u-17-24 c-listing__left\")\n",
    "    loc_= box.find_all(\"div\",class_ = \"u-bold u-d-inlineblock u-valign--middle\")\n",
    "    for i in loc_:\n",
    "        loc__=i.text\n",
    "        location2.append(loc__)"
   ]
  },
  {
   "cell_type": "code",
   "execution_count": 12,
   "id": "2cf72a9a",
   "metadata": {},
   "outputs": [
    {
     "data": {
      "text/plain": [
       "350"
      ]
     },
     "execution_count": 12,
     "metadata": {},
     "output_type": "execute_result"
    }
   ],
   "source": [
    "len(location2)"
   ]
  },
  {
   "cell_type": "code",
   "execution_count": null,
   "id": "a6e13326",
   "metadata": {},
   "outputs": [],
   "source": [
    "df2= pd.DataFrame({\"Name\":name2,\"Years of experience\":year_of_experience2,\n",
    "                  \"Location\":location2})"
   ]
  },
  {
   "cell_type": "code",
   "execution_count": 14,
   "id": "853e7334",
   "metadata": {},
   "outputs": [],
   "source": [
    "df2.to_csv(\"Downloads/DELHIDENTIST.csv\")"
   ]
  },
  {
   "cell_type": "code",
   "execution_count": 15,
   "id": "88b70f48",
   "metadata": {},
   "outputs": [],
   "source": [
    "name3=[]\n",
    "speciality_of_doctor3=[]\n",
    "year_of_experience3=[]\n",
    "location3=[]\n",
    "city3=[]\n",
    "consult_fee3=[]"
   ]
  },
  {
   "cell_type": "code",
   "execution_count": 16,
   "id": "99c4e65f",
   "metadata": {},
   "outputs": [],
   "source": [
    "for i in range(1,31):\n",
    "    url = \"https://www.practo.com/delhi/gynecologist?page=\"+str(i)\n",
    "    r= requests.get(url)\n",
    "    soup = BeautifulSoup(r.text, \"lxml\")\n",
    "    box= soup.find(\"div\", class_=\"pure-u-17-24 c-listing__left\")\n",
    "    name_= box.find_all(\"h2\",class_ = \"doctor-name\")\n",
    "    for i in name_:\n",
    "        name__=i.text\n",
    "        name3.append(name__)"
   ]
  },
  {
   "cell_type": "code",
   "execution_count": 17,
   "id": "c1f075a4",
   "metadata": {},
   "outputs": [
    {
     "data": {
      "text/plain": [
       "296"
      ]
     },
     "execution_count": 17,
     "metadata": {},
     "output_type": "execute_result"
    }
   ],
   "source": [
    "len(name3)"
   ]
  },
  {
   "cell_type": "code",
   "execution_count": 18,
   "id": "faa01d1a",
   "metadata": {},
   "outputs": [],
   "source": [
    "for i in range(1,31):\n",
    "    url = \"https://www.practo.com/delhi/gynecologist?page=\"+str(i)\n",
    "    r= requests.get(url)\n",
    "    soup = BeautifulSoup(r.text, \"lxml\")\n",
    "    box= soup.find(\"div\", class_=\"pure-u-17-24 c-listing__left\")\n",
    "    ye_= box.find_all(\"div\",{'class' : \"uv2-spacer--xs-top\",'data-qa-id':\"doctor_experience\"})\n",
    "    for i in ye_:\n",
    "        ye__=i.text\n",
    "        year_of_experience3.append(ye__)"
   ]
  },
  {
   "cell_type": "code",
   "execution_count": 19,
   "id": "ff78b50d",
   "metadata": {},
   "outputs": [
    {
     "data": {
      "text/plain": [
       "296"
      ]
     },
     "execution_count": 19,
     "metadata": {},
     "output_type": "execute_result"
    }
   ],
   "source": [
    "len(year_of_experience3)"
   ]
  },
  {
   "cell_type": "code",
   "execution_count": 20,
   "id": "dc289504",
   "metadata": {},
   "outputs": [],
   "source": [
    "for i in range(1,31):\n",
    "    url = \"https://www.practo.com/delhi/gynecologist?page=\"+str(i)\n",
    "    r= requests.get(url)\n",
    "    soup = BeautifulSoup(r.text, \"lxml\")\n",
    "    box= soup.find(\"div\", class_=\"pure-u-17-24 c-listing__left\")\n",
    "    loc_= box.find_all(\"div\",class_ = \"u-bold u-d-inlineblock u-valign--middle\")\n",
    "    for i in loc_:\n",
    "        loc__=i.text\n",
    "        location3.append(loc__)"
   ]
  },
  {
   "cell_type": "code",
   "execution_count": 21,
   "id": "2f564202",
   "metadata": {},
   "outputs": [
    {
     "data": {
      "text/plain": [
       "296"
      ]
     },
     "execution_count": 21,
     "metadata": {},
     "output_type": "execute_result"
    }
   ],
   "source": [
    "len(location3)"
   ]
  },
  {
   "cell_type": "code",
   "execution_count": 27,
   "id": "e767e6c6",
   "metadata": {},
   "outputs": [],
   "source": [
    "for i in range(1,31):\n",
    "    url = \"https://www.practo.com/delhi/gynecologist?page=\"+str(i)\n",
    "    r= requests.get(url)\n",
    "    soup = BeautifulSoup(r.text, \"lxml\")\n",
    "    box= soup.find(\"div\", class_=\"pure-u-17-24 c-listing__left\")\n",
    "    fee_= box.find_all(\"span\",{'data-qa-id' : \"consultation_fee\"})\n",
    "    for i in fee_:\n",
    "        fee__=i.text\n",
    "        consult_fee3.append(fee__)"
   ]
  },
  {
   "cell_type": "code",
   "execution_count": 28,
   "id": "d477604e",
   "metadata": {},
   "outputs": [
    {
     "data": {
      "text/plain": [
       "296"
      ]
     },
     "execution_count": 28,
     "metadata": {},
     "output_type": "execute_result"
    }
   ],
   "source": [
    "len(consult_fee3)"
   ]
  },
  {
   "cell_type": "code",
   "execution_count": 29,
   "id": "45ae723d",
   "metadata": {},
   "outputs": [
    {
     "name": "stdout",
     "output_type": "stream",
     "text": [
      "                      Name          Years of experience  \\\n",
      "0     Dr. Kalpana Aggrawal  20 years experience overall   \n",
      "1        Dr. Keerti Khetan  30 years experience overall   \n",
      "2       Dr. Ruchi Malhotra  31 years experience overall   \n",
      "3      Dr. Neha Khandelwal  19 years experience overall   \n",
      "4        Dr. Jyoti Bhaskar  35 years experience overall   \n",
      "..                     ...                          ...   \n",
      "291  Dr. Sagarika Aggarwal  25 years experience overall   \n",
      "292       Dr. Shelly Arora  15 years experience overall   \n",
      "293      Dr. Archana Yadav  10 years experience overall   \n",
      "294     Dr. Aanchal Sablok  13 years experience overall   \n",
      "295     Dr. Sujata Agarwal  35 years experience overall   \n",
      "\n",
      "                         Location Consultation fee  \n",
      "0              Palam Colony,Delhi             ₹500  \n",
      "1                 Pusa Road,Delhi            ₹1500  \n",
      "2             Kingsway Camp,Delhi            ₹1000  \n",
      "3    Greater Kailash Part 1,Delhi            ₹1200  \n",
      "4                Patparganj,Delhi            ₹1100  \n",
      "..                            ...              ...  \n",
      "291            Lajpat Nagar,Delhi             ₹500  \n",
      "292            Punjabi Bagh,Delhi             ₹800  \n",
      "293              Moti Nagar,Delhi            ₹1200  \n",
      "294              Moti Nagar,Delhi            ₹1200  \n",
      "295         Panchsheel Park,Delhi            ₹2100  \n",
      "\n",
      "[296 rows x 4 columns]\n"
     ]
    }
   ],
   "source": [
    "df3= pd.DataFrame({\"Name\":name3,\"Years of experience\":year_of_experience3,\n",
    "                  \"Location\":location3,\"Consultation fee\":consult_fee3})\n",
    "print(df3)"
   ]
  },
  {
   "cell_type": "code",
   "execution_count": 30,
   "id": "96ce1ddf",
   "metadata": {},
   "outputs": [],
   "source": [
    "df3.to_csv(\"Downloads/DELHIGYNECOLOGIST.csv\")"
   ]
  },
  {
   "cell_type": "code",
   "execution_count": 31,
   "id": "be784a07",
   "metadata": {},
   "outputs": [],
   "source": [
    "name4=[]\n",
    "speciality_of_doctor4=[]\n",
    "year_of_experience4=[]\n",
    "location4=[]\n",
    "city4=[]\n",
    "consult_fee4=[]"
   ]
  },
  {
   "cell_type": "code",
   "execution_count": 36,
   "id": "91fbc6f6",
   "metadata": {},
   "outputs": [],
   "source": [
    "for i in range(1,18):\n",
    "    url = \"https://www.practo.com/delhi/pediatrician?page=\"+str(i)\n",
    "    r= requests.get(url)\n",
    "    soup = BeautifulSoup(r.text, \"lxml\")\n",
    "    box= soup.find(\"div\", class_=\"pure-u-17-24 c-listing__left\")\n",
    "    name_= box.find_all(\"h2\",class_ = \"doctor-name\")\n",
    "    for i in name_:\n",
    "        name__=i.text\n",
    "        name4.append(name__)"
   ]
  },
  {
   "cell_type": "code",
   "execution_count": 37,
   "id": "baad6f78",
   "metadata": {},
   "outputs": [
    {
     "data": {
      "text/plain": [
       "170"
      ]
     },
     "execution_count": 37,
     "metadata": {},
     "output_type": "execute_result"
    }
   ],
   "source": [
    "len(name4)"
   ]
  },
  {
   "cell_type": "code",
   "execution_count": 38,
   "id": "f332bebb",
   "metadata": {},
   "outputs": [],
   "source": [
    "for i in range(1,18):\n",
    "    url = \"https://www.practo.com/delhi/pediatrician?page=\"+str(i)\n",
    "    r= requests.get(url)\n",
    "    soup = BeautifulSoup(r.text, \"lxml\")\n",
    "    box= soup.find(\"div\", class_=\"pure-u-17-24 c-listing__left\")\n",
    "    ye_= box.find_all(\"div\",{'class' : \"uv2-spacer--xs-top\",'data-qa-id':\"doctor_experience\"})\n",
    "    for i in ye_:\n",
    "        ye__=i.text\n",
    "        year_of_experience4.append(ye__)"
   ]
  },
  {
   "cell_type": "code",
   "execution_count": 39,
   "id": "1c55f460",
   "metadata": {},
   "outputs": [
    {
     "data": {
      "text/plain": [
       "170"
      ]
     },
     "execution_count": 39,
     "metadata": {},
     "output_type": "execute_result"
    }
   ],
   "source": [
    "len(year_of_experience4)"
   ]
  },
  {
   "cell_type": "code",
   "execution_count": 40,
   "id": "a1649190",
   "metadata": {},
   "outputs": [],
   "source": [
    "for i in range(1,18):\n",
    "    url = \"https://www.practo.com/delhi/pediatrician?page=\"+str(i)\n",
    "    r= requests.get(url)\n",
    "    soup = BeautifulSoup(r.text, \"lxml\")\n",
    "    box= soup.find(\"div\", class_=\"pure-u-17-24 c-listing__left\")\n",
    "    loc_= box.find_all(\"div\",class_ = \"u-bold u-d-inlineblock u-valign--middle\")\n",
    "    for i in loc_:\n",
    "        loc__=i.text\n",
    "        location4.append(loc__)"
   ]
  },
  {
   "cell_type": "code",
   "execution_count": 41,
   "id": "18dd9589",
   "metadata": {},
   "outputs": [
    {
     "data": {
      "text/plain": [
       "170"
      ]
     },
     "execution_count": 41,
     "metadata": {},
     "output_type": "execute_result"
    }
   ],
   "source": [
    "len(location4)"
   ]
  },
  {
   "cell_type": "code",
   "execution_count": 42,
   "id": "546bd668",
   "metadata": {},
   "outputs": [],
   "source": [
    "for i in range(1,18):\n",
    "    url = \"https://www.practo.com/delhi/pediatrician?page=\"+str(i)\n",
    "    r= requests.get(url)\n",
    "    soup = BeautifulSoup(r.text, \"lxml\")\n",
    "    box= soup.find(\"div\", class_=\"pure-u-17-24 c-listing__left\")\n",
    "    fee_= box.find_all(\"span\",{'data-qa-id' : \"consultation_fee\"})\n",
    "    for i in fee_:\n",
    "        fee__=i.text\n",
    "        consult_fee4.append(fee__)"
   ]
  },
  {
   "cell_type": "code",
   "execution_count": 43,
   "id": "d9c9fda4",
   "metadata": {},
   "outputs": [
    {
     "data": {
      "text/plain": [
       "170"
      ]
     },
     "execution_count": 43,
     "metadata": {},
     "output_type": "execute_result"
    }
   ],
   "source": [
    "len(consult_fee4)"
   ]
  },
  {
   "cell_type": "code",
   "execution_count": 44,
   "id": "fe5d0f3c",
   "metadata": {},
   "outputs": [
    {
     "name": "stdout",
     "output_type": "stream",
     "text": [
      "                       Name          Years of experience             Location  \\\n",
      "0        Dr. B. B. Aggarwal  34 years experience overall      Pusa Road,Delhi   \n",
      "1          Dr. Prita Trehan  52 years experience overall   Sarita Vihar,Delhi   \n",
      "2           Dr. R K Alwadhi  27 years experience overall      Pusa Road,Delhi   \n",
      "3          Dr. Manish Gupta  20 years experience overall         Dwarka,Delhi   \n",
      "4           Dr. Pawan Kumar  22 years experience overall  Malviya Nagar,Delhi   \n",
      "..                      ...                          ...                  ...   \n",
      "165     Dr. Meera Sundharam  32 years experience overall  Shalimar Bagh,Delhi   \n",
      "166        Dr. Rinky Tandon  10 years experience overall          Saket,Delhi   \n",
      "167       Dr. Arvind Taneja  53 years experience overall          Saket,Delhi   \n",
      "168        Dr. Anju Virmani  37 years experience overall          Saket,Delhi   \n",
      "169  Dr. Manbir Singh Sarna  40 years experience overall  Shalimar Bagh,Delhi   \n",
      "\n",
      "    Consultation fee  \n",
      "0              ₹1300  \n",
      "1              ₹2000  \n",
      "2              ₹1100  \n",
      "3               ₹500  \n",
      "4              ₹1100  \n",
      "..               ...  \n",
      "165            ₹1000  \n",
      "166            ₹1200  \n",
      "167            ₹2000  \n",
      "168            ₹2000  \n",
      "169            ₹1000  \n",
      "\n",
      "[170 rows x 4 columns]\n"
     ]
    }
   ],
   "source": [
    "df4= pd.DataFrame({\"Name\":name4,\"Years of experience\":year_of_experience4,\n",
    "                  \"Location\":location4,\"Consultation fee\":consult_fee4})\n",
    "print(df4)"
   ]
  },
  {
   "cell_type": "code",
   "execution_count": 45,
   "id": "50b73be5",
   "metadata": {},
   "outputs": [],
   "source": [
    "df4.to_csv(\"Downloads/DELHIPEDIATRICIAN.csv\")"
   ]
  },
  {
   "cell_type": "code",
   "execution_count": 2,
   "id": "7a9bcacf",
   "metadata": {},
   "outputs": [],
   "source": [
    "name5=[]\n",
    "speciality_of_doctor5=[]\n",
    "year_of_experience5=[]\n",
    "location5=[]\n",
    "city5=[]\n",
    "consult_fee5=[]"
   ]
  },
  {
   "cell_type": "code",
   "execution_count": 9,
   "id": "c376325d",
   "metadata": {},
   "outputs": [],
   "source": [
    "for i in range(1,7):\n",
    "    url = \"https://www.practo.com/delhi/physiotherapist?page=\"+str(i)\n",
    "    r= requests.get(url)\n",
    "    soup = BeautifulSoup(r.text, \"lxml\")\n",
    "    box= soup.find(\"div\", class_=\"pure-u-17-24 c-listing__left\")\n",
    "    name_= box.find_all(\"h2\",class_ = \"doctor-name\")\n",
    "    for i in name_:\n",
    "        name__=i.text\n",
    "        name5.append(name__)"
   ]
  },
  {
   "cell_type": "code",
   "execution_count": 10,
   "id": "558bc1a1",
   "metadata": {},
   "outputs": [
    {
     "data": {
      "text/plain": [
       "60"
      ]
     },
     "execution_count": 10,
     "metadata": {},
     "output_type": "execute_result"
    }
   ],
   "source": [
    "len(name5)"
   ]
  },
  {
   "cell_type": "code",
   "execution_count": 11,
   "id": "48c19ceb",
   "metadata": {},
   "outputs": [],
   "source": [
    "for i in range(1,7):\n",
    "    url = \"https://www.practo.com/delhi/physiotherapist?page=\"+str(i)\n",
    "    r= requests.get(url)\n",
    "    soup = BeautifulSoup(r.text, \"lxml\")\n",
    "    box= soup.find(\"div\", class_=\"pure-u-17-24 c-listing__left\")\n",
    "    ye_= box.find_all(\"div\",{'class' : \"uv2-spacer--xs-top\",'data-qa-id':\"doctor_experience\"})\n",
    "    for i in ye_:\n",
    "        ye__=i.text\n",
    "        year_of_experience5.append(ye__)"
   ]
  },
  {
   "cell_type": "code",
   "execution_count": 12,
   "id": "cc61e91e",
   "metadata": {},
   "outputs": [
    {
     "data": {
      "text/plain": [
       "60"
      ]
     },
     "execution_count": 12,
     "metadata": {},
     "output_type": "execute_result"
    }
   ],
   "source": [
    "len(year_of_experience5)"
   ]
  },
  {
   "cell_type": "code",
   "execution_count": 13,
   "id": "73a62552",
   "metadata": {},
   "outputs": [],
   "source": [
    "for i in range(1,7):\n",
    "    url = \"https://www.practo.com/delhi/physiotherapist?page=\"+str(i)\n",
    "    r= requests.get(url)\n",
    "    soup = BeautifulSoup(r.text, \"lxml\")\n",
    "    box= soup.find(\"div\", class_=\"pure-u-17-24 c-listing__left\")\n",
    "    loc_= box.find_all(\"div\",class_ = \"u-bold u-d-inlineblock u-valign--middle\")\n",
    "    for i in loc_:\n",
    "        loc__=i.text\n",
    "        location5.append(loc__)"
   ]
  },
  {
   "cell_type": "code",
   "execution_count": 14,
   "id": "d15dd301",
   "metadata": {},
   "outputs": [
    {
     "data": {
      "text/plain": [
       "60"
      ]
     },
     "execution_count": 14,
     "metadata": {},
     "output_type": "execute_result"
    }
   ],
   "source": [
    "len(location5)"
   ]
  },
  {
   "cell_type": "code",
   "execution_count": 15,
   "id": "fff6e5cb",
   "metadata": {},
   "outputs": [],
   "source": [
    "for i in range(1,7):\n",
    "    url = \"https://www.practo.com/delhi/physiotherapist?page=\"+str(i)\n",
    "    r= requests.get(url)\n",
    "    soup = BeautifulSoup(r.text, \"lxml\")\n",
    "    box= soup.find(\"div\", class_=\"pure-u-17-24 c-listing__left\")\n",
    "    fee_= box.find_all(\"span\",{'data-qa-id' : \"consultation_fee\"})\n",
    "    for i in fee_:\n",
    "        fee__=i.text\n",
    "        consult_fee5.append(fee__)"
   ]
  },
  {
   "cell_type": "code",
   "execution_count": 16,
   "id": "5588ec71",
   "metadata": {},
   "outputs": [
    {
     "data": {
      "text/plain": [
       "60"
      ]
     },
     "execution_count": 16,
     "metadata": {},
     "output_type": "execute_result"
    }
   ],
   "source": [
    "len(consult_fee5)"
   ]
  },
  {
   "cell_type": "code",
   "execution_count": 17,
   "id": "a7b0a577",
   "metadata": {},
   "outputs": [
    {
     "name": "stdout",
     "output_type": "stream",
     "text": [
      "                                             Name  \\\n",
      "0            Dr. Lochan Arora   (Physiotherapist)   \n",
      "1             Dr. Rajiv Mehta   (Physiotherapist)   \n",
      "2          Dr. Deepti Chhabra   (Physiotherapist)   \n",
      "3         Dr. Deepshikha Goel   (Physiotherapist)   \n",
      "4         Dr. Abhimanyu Kumar   (Physiotherapist)   \n",
      "5           Dr. Santosh Kumar   (Physiotherapist)   \n",
      "6         Dr. Saakshi Dhingra   (Physiotherapist)   \n",
      "7                                  Dr. Ajaz Ahmad   \n",
      "8            Dr. Hitesh Arora   (Physiotherapist)   \n",
      "9            Dr. Sonia Baijal   (Physiotherapist)   \n",
      "10           Dr. Varun Duggal   (Physiotherapist)   \n",
      "11          Dr. Gholam Sarwar   (Physiotherapist)   \n",
      "12         Dr. Ankit Aggarwal   (Physiotherapist)   \n",
      "13           Dr. Rakhi Ratnam   (Physiotherapist)   \n",
      "14           Dr. Vimal Sharma   (Physiotherapist)   \n",
      "15         Dr. Ravindra Kumar   (Physiotherapist)   \n",
      "16          Dr. Surbhi Sharma   (Physiotherapist)   \n",
      "17        Dr. Abhishek Massey   (Physiotherapist)   \n",
      "18                 Dr. Khyati   (Physiotherapist)   \n",
      "19            Dr. Abu Jonayed   (Physiotherapist)   \n",
      "20           Dr. S.Srivastava   (Physiotherapist)   \n",
      "21            Dr. Nidhi Kumar   (Physiotherapist)   \n",
      "22        Dr. Sandhya Thakkar   (Physiotherapist)   \n",
      "23            Dr. Anuj Sharma   (Physiotherapist)   \n",
      "24            Dr. Richa Gupta   (Physiotherapist)   \n",
      "25   Dr. Raj Laxmi Chaturvedi   (Physiotherapist)   \n",
      "26      Dr. Chanchal Aggarwal   (Physiotherapist)   \n",
      "27            Dr. Aditya Vats   (Physiotherapist)   \n",
      "28            Dr. Piyush Jain   (Physiotherapist)   \n",
      "29     Dr. Rama Shankar Singh   (Physiotherapist)   \n",
      "30          Dr. Kunal A Batra   (Physiotherapist)   \n",
      "31            Dr. S.K.Rathour   (Physiotherapist)   \n",
      "32             Dr. Naved Khan   (Physiotherapist)   \n",
      "33         Dr. Shikha Agarwal   (Physiotherapist)   \n",
      "34          Dr. Charu Awasthi   (Physiotherapist)   \n",
      "35                 Dr. Aditya   (Physiotherapist)   \n",
      "36            Dr. Deepti Jain   (Physiotherapist)   \n",
      "37           Dr. Gaurav Mohan   (Physiotherapist)   \n",
      "38           Dr. Naveen Verma   (Physiotherapist)   \n",
      "39             Dr. M. M. Alam   (Physiotherapist)   \n",
      "40           Dr. Sumit Thapar   (Physiotherapist)   \n",
      "41    Dr. Padam Singh Paliwal   (Physiotherapist)   \n",
      "42          Dr. Deepti Somani   (Physiotherapist)   \n",
      "43           Dr. Swati Sharma   (Physiotherapist)   \n",
      "44            Dr. Vipin Kumar   (Physiotherapist)   \n",
      "45           Dr. Pankaj Kumar   (Physiotherapist)   \n",
      "46         Dr. Mahesh Bagaria   (Physiotherapist)   \n",
      "47              Dr. Payal Pal   (Physiotherapist)   \n",
      "48          Dr. Anisha Sekhri   (Physiotherapist)   \n",
      "49           Dr. Rahul Sekhri   (Physiotherapist)   \n",
      "50         Dr. Shikha Agarwal   (Physiotherapist)   \n",
      "51           Dr. Naveen Verma   (Physiotherapist)   \n",
      "52            Dr. Richa Gupta   (Physiotherapist)   \n",
      "53                 Dr. Aditya   (Physiotherapist)   \n",
      "54         Dr. Mahesh Bagaria   (Physiotherapist)   \n",
      "55    Dr. Padam Singh Paliwal   (Physiotherapist)   \n",
      "56  Dr. Shreyansh Kumar Singh   (Physiotherapist)   \n",
      "57        Dr. Sandhya Thakkar   (Physiotherapist)   \n",
      "58        Dr. Saakshi Dhingra   (Physiotherapist)   \n",
      "59          Dr. Anisha Sekhri   (Physiotherapist)   \n",
      "\n",
      "            Years of experience                           Location  \\\n",
      "0   14 years experience overall                    Janakpuri,Delhi   \n",
      "1   24 years experience overall                        Saket,Delhi   \n",
      "2   17 years experience overall                    Pitampura,Delhi   \n",
      "3   18 years experience overall           Safdarjung Enclave,Delhi   \n",
      "4   15 years experience overall                      Munirka,Delhi   \n",
      "5   14 years experience overall              Dwarka Sector 6,Delhi   \n",
      "6   17 years experience overall               Defence Colony,Delhi   \n",
      "7   17 years experience overall       Greater Kailash Part 2,Delhi   \n",
      "8   18 years experience overall                 Punjabi Bagh,Delhi   \n",
      "9   15 years experience overall                   Vikas Puri,Delhi   \n",
      "10  17 years experience overall                  Kirti Nagar,Delhi   \n",
      "11  15 years experience overall              Dwarka Sector 6,Delhi   \n",
      "12  15 years experience overall           Safdarjung Enclave,Delhi   \n",
      "13  12 years experience overall  Safdarjung Development Area,Delhi   \n",
      "14  17 years experience overall                Gulmohar Park,Delhi   \n",
      "15  17 years experience overall               Defence Colony,Delhi   \n",
      "16  18 years experience overall                  Vasant Kunj,Delhi   \n",
      "17   7 years experience overall                  Vasant Kunj,Delhi   \n",
      "18   7 years experience overall                    Pitampura,Delhi   \n",
      "19   9 years experience overall               Siri Fort Road,Delhi   \n",
      "20  12 years experience overall                       Burari,Delhi   \n",
      "21  15 years experience overall               Rajouri Garden,Delhi   \n",
      "22  16 years experience overall                 Sarita Vihar,Delhi   \n",
      "23  11 years experience overall               Dilshad Garden,Delhi   \n",
      "24  15 years experience overall              Jagriti Enclave,Delhi   \n",
      "25  13 years experience overall             Rohini Sector 16,Delhi   \n",
      "26  19 years experience overall               Prashant Vihar,Delhi   \n",
      "27   2 years experience overall           Safdarjung Enclave,Delhi   \n",
      "28  11 years experience overall                  Karkardooma,Delhi   \n",
      "29  21 years experience overall                      Kalkaji,Delhi   \n",
      "30   9 years experience overall                       Rohini,Delhi   \n",
      "31  12 years experience overall                   Chattarpur,Delhi   \n",
      "32  18 years experience overall                        Saket,Delhi   \n",
      "33  16 years experience overall                  Jamia Nagar,Delhi   \n",
      "34  21 years experience overall                  Uttam Nagar,Delhi   \n",
      "35   9 years experience overall               Rajouri Garden,Delhi   \n",
      "36  12 years experience overall                      Munirka,Delhi   \n",
      "37   7 years experience overall                  Laxmi Nagar,Delhi   \n",
      "38  10 years experience overall             Rohini Sector 18,Delhi   \n",
      "39  20 years experience overall                    Hauz Khas,Delhi   \n",
      "40   9 years experience overall       Greater Kailash Part 1,Delhi   \n",
      "41   6 years experience overall              Dwarka Sector 6,Delhi   \n",
      "42  16 years experience overall          Ashok Vihar Phase 1,Delhi   \n",
      "43  10 years experience overall                  Vasant Kunj,Delhi   \n",
      "44   3 years experience overall               Defence Colony,Delhi   \n",
      "45   7 years experience overall                   Mahipalpur,Delhi   \n",
      "46   5 years experience overall           New Rajendra Nagar,Delhi   \n",
      "47  18 years experience overall                       Dwarka,Delhi   \n",
      "48  15 years experience overall                  Preet Vihar,Delhi   \n",
      "49  14 years experience overall                  Preet Vihar,Delhi   \n",
      "50  31 years experience overall       Greater Kailash Part 2,Delhi   \n",
      "51   6 years experience overall              Dwarka Sector 1,Delhi   \n",
      "52  14 years experience overall                   Vikas Puri,Delhi   \n",
      "53  15 years experience overall       Greater Kailash Part 1,Delhi   \n",
      "54   5 years experience overall           Safdarjung Enclave,Delhi   \n",
      "55  12 years experience overall                  Vasant Kunj,Delhi   \n",
      "56   3 years experience overall                       Dwarka,Delhi   \n",
      "57  15 years experience overall                Tagore Garden,Delhi   \n",
      "58  32 years experience overall       Greater Kailash Part 2,Delhi   \n",
      "59  11 years experience overall                 Punjabi Bagh,Delhi   \n",
      "\n",
      "   Consultation fee  \n",
      "0              ₹500  \n",
      "1              ₹500  \n",
      "2              ₹500  \n",
      "3              ₹500  \n",
      "4              ₹400  \n",
      "5              ₹500  \n",
      "6              ₹800  \n",
      "7              ₹700  \n",
      "8             ₹1000  \n",
      "9              ₹800  \n",
      "10            ₹1000  \n",
      "11             ₹700  \n",
      "12            ₹1000  \n",
      "13            ₹1000  \n",
      "14            ₹1500  \n",
      "15            ₹1000  \n",
      "16             ₹500  \n",
      "17             ₹400  \n",
      "18             ₹500  \n",
      "19            ₹1000  \n",
      "20             ₹350  \n",
      "21             ₹800  \n",
      "22             ₹700  \n",
      "23             ₹300  \n",
      "24            ₹1200  \n",
      "25             ₹500  \n",
      "26             ₹500  \n",
      "27             ₹700  \n",
      "28            ₹1000  \n",
      "29             ₹600  \n",
      "30            ₹1200  \n",
      "31            ₹1000  \n",
      "32            ₹1000  \n",
      "33             ₹600  \n",
      "34             ₹500  \n",
      "35            ₹1000  \n",
      "36             ₹500  \n",
      "37             ₹800  \n",
      "38             ₹500  \n",
      "39             ₹400  \n",
      "40            ₹1200  \n",
      "41             ₹500  \n",
      "42             ₹600  \n",
      "43             ₹500  \n",
      "44             ₹600  \n",
      "45             ₹700  \n",
      "46             ₹500  \n",
      "47             ₹500  \n",
      "48             ₹400  \n",
      "49             ₹400  \n",
      "50             ₹700  \n",
      "51             ₹199  \n",
      "52             ₹300  \n",
      "53            ₹1000  \n",
      "54             ₹600  \n",
      "55            ₹1500  \n",
      "56             ₹700  \n",
      "57             ₹400  \n",
      "58            ₹1200  \n",
      "59             ₹800  \n"
     ]
    }
   ],
   "source": [
    "df5= pd.DataFrame({\"Name\":name5,\"Years of experience\":year_of_experience5,\n",
    "                  \"Location\":location5,\"Consultation fee\":consult_fee5})\n",
    "print(df5)"
   ]
  },
  {
   "cell_type": "code",
   "execution_count": 18,
   "id": "3656fc60",
   "metadata": {},
   "outputs": [],
   "source": [
    "df5.to_csv(\"Downloads/DELHIPHYSIOTHERIPIST.csv\")"
   ]
  },
  {
   "cell_type": "code",
   "execution_count": 19,
   "id": "1786ece6",
   "metadata": {},
   "outputs": [],
   "source": [
    "name6=[]\n",
    "speciality_of_doctor6=[]\n",
    "year_of_experience6=[]\n",
    "location6=[]\n",
    "city6=[]\n",
    "consult_fee6=[]"
   ]
  },
  {
   "cell_type": "code",
   "execution_count": 22,
   "id": "3d821af6",
   "metadata": {},
   "outputs": [],
   "source": [
    "for i in range(1,12):\n",
    "    url = \"https://www.practo.com/delhi/dermatologist?page=\"+str(i)\n",
    "    r= requests.get(url)\n",
    "    soup = BeautifulSoup(r.text, \"lxml\")\n",
    "    box= soup.find(\"div\", class_=\"pure-u-17-24 c-listing__left\")\n",
    "    name_= box.find_all(\"h2\",class_ = \"doctor-name\")\n",
    "    for i in name_:\n",
    "        name__=i.text\n",
    "        name6.append(name__)"
   ]
  },
  {
   "cell_type": "code",
   "execution_count": 23,
   "id": "e61ffa34",
   "metadata": {},
   "outputs": [
    {
     "data": {
      "text/plain": [
       "105"
      ]
     },
     "execution_count": 23,
     "metadata": {},
     "output_type": "execute_result"
    }
   ],
   "source": [
    "len(name6)"
   ]
  },
  {
   "cell_type": "code",
   "execution_count": 24,
   "id": "43b5f7ae",
   "metadata": {},
   "outputs": [],
   "source": [
    "for i in range(1,12):\n",
    "    url = \"https://www.practo.com/delhi/dermatologist?page=\"+str(i)\n",
    "    r= requests.get(url)\n",
    "    soup = BeautifulSoup(r.text, \"lxml\")\n",
    "    box= soup.find(\"div\", class_=\"pure-u-17-24 c-listing__left\")\n",
    "    ye_= box.find_all(\"div\",{'class' : \"uv2-spacer--xs-top\",'data-qa-id':\"doctor_experience\"})\n",
    "    for i in ye_:\n",
    "        ye__=i.text\n",
    "        year_of_experience6.append(ye__)"
   ]
  },
  {
   "cell_type": "code",
   "execution_count": 25,
   "id": "2ceab26d",
   "metadata": {},
   "outputs": [
    {
     "data": {
      "text/plain": [
       "105"
      ]
     },
     "execution_count": 25,
     "metadata": {},
     "output_type": "execute_result"
    }
   ],
   "source": [
    "len(year_of_experience6)"
   ]
  },
  {
   "cell_type": "code",
   "execution_count": 26,
   "id": "404ca5ff",
   "metadata": {},
   "outputs": [],
   "source": [
    "for i in range(1,12):\n",
    "    url = \"https://www.practo.com/delhi/dermatologist?page=\"+str(i)\n",
    "    r= requests.get(url)\n",
    "    soup = BeautifulSoup(r.text, \"lxml\")\n",
    "    box= soup.find(\"div\", class_=\"pure-u-17-24 c-listing__left\")\n",
    "    loc_= box.find_all(\"div\",class_ = \"u-bold u-d-inlineblock u-valign--middle\")\n",
    "    for i in loc_:\n",
    "        loc__=i.text\n",
    "        location6.append(loc__)"
   ]
  },
  {
   "cell_type": "code",
   "execution_count": 27,
   "id": "051c9408",
   "metadata": {},
   "outputs": [
    {
     "data": {
      "text/plain": [
       "105"
      ]
     },
     "execution_count": 27,
     "metadata": {},
     "output_type": "execute_result"
    }
   ],
   "source": [
    "len(location6)"
   ]
  },
  {
   "cell_type": "code",
   "execution_count": 28,
   "id": "1b50d42b",
   "metadata": {},
   "outputs": [],
   "source": [
    "for i in range(1,12):\n",
    "    url = \"https://www.practo.com/delhi/dermatologist?page=\"+str(i)\n",
    "    r= requests.get(url)\n",
    "    soup = BeautifulSoup(r.text, \"lxml\")\n",
    "    box= soup.find(\"div\", class_=\"pure-u-17-24 c-listing__left\")\n",
    "    fee_= box.find_all(\"span\",{'data-qa-id' : \"consultation_fee\"})\n",
    "    for i in fee_:\n",
    "        fee__=i.text\n",
    "        consult_fee6.append(fee__)"
   ]
  },
  {
   "cell_type": "code",
   "execution_count": 29,
   "id": "8ef18c3b",
   "metadata": {},
   "outputs": [
    {
     "data": {
      "text/plain": [
       "105"
      ]
     },
     "execution_count": 29,
     "metadata": {},
     "output_type": "execute_result"
    }
   ],
   "source": [
    "len(consult_fee6)"
   ]
  },
  {
   "cell_type": "code",
   "execution_count": 30,
   "id": "edf7fe32",
   "metadata": {},
   "outputs": [],
   "source": [
    "df6= pd.DataFrame({\"Name\":name6,\"Years of experience\":year_of_experience6,\n",
    "                  \"Location\":location6,\"Consultation fee\":consult_fee6})"
   ]
  },
  {
   "cell_type": "code",
   "execution_count": 31,
   "id": "cefb5279",
   "metadata": {},
   "outputs": [],
   "source": [
    "df6.to_csv(\"Downloads/DELHIDERMATOLOGIST.csv\")"
   ]
  },
  {
   "cell_type": "code",
   "execution_count": 32,
   "id": "d99e66cd",
   "metadata": {},
   "outputs": [],
   "source": [
    "name7=[]\n",
    "speciality_of_doctor7=[]\n",
    "year_of_experience7=[]\n",
    "location7=[]\n",
    "city7=[]\n",
    "consult_fee7=[]"
   ]
  },
  {
   "cell_type": "code",
   "execution_count": 33,
   "id": "7aa1c8ed",
   "metadata": {},
   "outputs": [],
   "source": [
    "for i in range(1,5):\n",
    "    url = \"https://www.practo.com/delhi/dietitian-nutritionist?page=\"+str(i)\n",
    "    r= requests.get(url)\n",
    "    soup = BeautifulSoup(r.text, \"lxml\")\n",
    "    box= soup.find(\"div\", class_=\"pure-u-17-24 c-listing__left\")\n",
    "    name_= box.find_all(\"h2\",class_ = \"doctor-name\")\n",
    "    for i in name_:\n",
    "        name__=i.text\n",
    "        name7.append(name__)"
   ]
  },
  {
   "cell_type": "code",
   "execution_count": 34,
   "id": "4cae66a8",
   "metadata": {},
   "outputs": [
    {
     "data": {
      "text/plain": [
       "40"
      ]
     },
     "execution_count": 34,
     "metadata": {},
     "output_type": "execute_result"
    }
   ],
   "source": [
    "len(name7)"
   ]
  },
  {
   "cell_type": "code",
   "execution_count": 35,
   "id": "54cea0fa",
   "metadata": {},
   "outputs": [],
   "source": [
    "for i in range(1,5):\n",
    "    url = \"https://www.practo.com/delhi/dietitian-nutritionist?page=\"+str(i)\n",
    "    r= requests.get(url)\n",
    "    soup = BeautifulSoup(r.text, \"lxml\")\n",
    "    box= soup.find(\"div\", class_=\"pure-u-17-24 c-listing__left\")\n",
    "    ye_= box.find_all(\"div\",{'class' : \"uv2-spacer--xs-top\",'data-qa-id':\"doctor_experience\"})\n",
    "    for i in ye_:\n",
    "        ye__=i.text\n",
    "        year_of_experience7.append(ye__)"
   ]
  },
  {
   "cell_type": "code",
   "execution_count": 36,
   "id": "d6417209",
   "metadata": {},
   "outputs": [
    {
     "data": {
      "text/plain": [
       "40"
      ]
     },
     "execution_count": 36,
     "metadata": {},
     "output_type": "execute_result"
    }
   ],
   "source": [
    "len(year_of_experience7)"
   ]
  },
  {
   "cell_type": "code",
   "execution_count": 37,
   "id": "3d12b003",
   "metadata": {},
   "outputs": [],
   "source": [
    "for i in range(1,5):\n",
    "    url = \"https://www.practo.com/delhi/dietitian-nutritionist?page=\"+str(i)\n",
    "    r= requests.get(url)\n",
    "    soup = BeautifulSoup(r.text, \"lxml\")\n",
    "    box= soup.find(\"div\", class_=\"pure-u-17-24 c-listing__left\")\n",
    "    loc_= box.find_all(\"div\",class_ = \"u-bold u-d-inlineblock u-valign--middle\")\n",
    "    for i in loc_:\n",
    "        loc__=i.text\n",
    "        location7.append(loc__)"
   ]
  },
  {
   "cell_type": "code",
   "execution_count": 38,
   "id": "2cad3b76",
   "metadata": {},
   "outputs": [
    {
     "data": {
      "text/plain": [
       "40"
      ]
     },
     "execution_count": 38,
     "metadata": {},
     "output_type": "execute_result"
    }
   ],
   "source": [
    "len(location7)"
   ]
  },
  {
   "cell_type": "code",
   "execution_count": 39,
   "id": "d6a50684",
   "metadata": {},
   "outputs": [],
   "source": [
    "for i in range(1,5):\n",
    "    url = \"https://www.practo.com/delhi/dietitian-nutritionist?page=\"+str(i)\n",
    "    r= requests.get(url)\n",
    "    soup = BeautifulSoup(r.text, \"lxml\")\n",
    "    box= soup.find(\"div\", class_=\"pure-u-17-24 c-listing__left\")\n",
    "    fee_= box.find_all(\"span\",{'data-qa-id' : \"consultation_fee\"})\n",
    "    for i in fee_:\n",
    "        fee__=i.text\n",
    "        consult_fee7.append(fee__)"
   ]
  },
  {
   "cell_type": "code",
   "execution_count": 40,
   "id": "ee840556",
   "metadata": {},
   "outputs": [
    {
     "data": {
      "text/plain": [
       "40"
      ]
     },
     "execution_count": 40,
     "metadata": {},
     "output_type": "execute_result"
    }
   ],
   "source": [
    "len( consult_fee7)"
   ]
  },
  {
   "cell_type": "code",
   "execution_count": 41,
   "id": "836ce75b",
   "metadata": {},
   "outputs": [],
   "source": [
    "df7= pd.DataFrame({\"Name\":name7,\"Years of experience\":year_of_experience7,\n",
    "                  \"Location\":location7,\"Consultation fee\":consult_fee7})"
   ]
  },
  {
   "cell_type": "code",
   "execution_count": 42,
   "id": "9c2deebe",
   "metadata": {},
   "outputs": [],
   "source": [
    "df7.to_csv(\"Downloads/DELHIDIETICIAN.csv\")"
   ]
  },
  {
   "cell_type": "code",
   "execution_count": 43,
   "id": "57ec1d01",
   "metadata": {},
   "outputs": [],
   "source": [
    "name8=[]\n",
    "speciality_of_doctor8=[]\n",
    "year_of_experience8=[]\n",
    "location8=[]\n",
    "city8=[]\n",
    "consult_fee8=[]"
   ]
  },
  {
   "cell_type": "code",
   "execution_count": 50,
   "id": "4182ade0",
   "metadata": {},
   "outputs": [],
   "source": [
    "for i in range(1,8):\n",
    "    url = \"https://www.practo.com/delhi/psychiatrist?page=\"+str(i)\n",
    "    r= requests.get(url)\n",
    "    soup = BeautifulSoup(r.text, \"lxml\")\n",
    "    box= soup.find(\"div\", class_=\"pure-u-17-24 c-listing__left\")\n",
    "    name_= box.find_all(\"h2\",class_ = \"doctor-name\")\n",
    "    for i in name_:\n",
    "        name__=i.text\n",
    "        name8.append(name__)"
   ]
  },
  {
   "cell_type": "code",
   "execution_count": 51,
   "id": "68d58426",
   "metadata": {},
   "outputs": [
    {
     "data": {
      "text/plain": [
       "61"
      ]
     },
     "execution_count": 51,
     "metadata": {},
     "output_type": "execute_result"
    }
   ],
   "source": [
    "len(name8)"
   ]
  },
  {
   "cell_type": "code",
   "execution_count": 52,
   "id": "ee329527",
   "metadata": {},
   "outputs": [],
   "source": [
    "for i in range(1,8):\n",
    "    url = \"https://www.practo.com/delhi/psychiatrist?page=\"+str(i)\n",
    "    r= requests.get(url)\n",
    "    soup = BeautifulSoup(r.text, \"lxml\")\n",
    "    box= soup.find(\"div\", class_=\"pure-u-17-24 c-listing__left\")\n",
    "    ye_= box.find_all(\"div\",{'class' : \"uv2-spacer--xs-top\",'data-qa-id':\"doctor_experience\"})\n",
    "    for i in ye_:\n",
    "        ye__=i.text\n",
    "        year_of_experience8.append(ye__)"
   ]
  },
  {
   "cell_type": "code",
   "execution_count": 53,
   "id": "40a502d4",
   "metadata": {},
   "outputs": [
    {
     "data": {
      "text/plain": [
       "61"
      ]
     },
     "execution_count": 53,
     "metadata": {},
     "output_type": "execute_result"
    }
   ],
   "source": [
    "len(year_of_experience8)"
   ]
  },
  {
   "cell_type": "code",
   "execution_count": 54,
   "id": "0d9b0032",
   "metadata": {},
   "outputs": [],
   "source": [
    "for i in range(1,8):\n",
    "    url = \"https://www.practo.com/delhi/psychiatrist?page=\"+str(i)\n",
    "    r= requests.get(url)\n",
    "    soup = BeautifulSoup(r.text, \"lxml\")\n",
    "    box= soup.find(\"div\", class_=\"pure-u-17-24 c-listing__left\")\n",
    "    loc_= box.find_all(\"div\",class_ = \"u-bold u-d-inlineblock u-valign--middle\")\n",
    "    for i in loc_:\n",
    "        loc__=i.text\n",
    "        location8.append(loc__)"
   ]
  },
  {
   "cell_type": "code",
   "execution_count": 55,
   "id": "7ddce03d",
   "metadata": {},
   "outputs": [
    {
     "data": {
      "text/plain": [
       "61"
      ]
     },
     "execution_count": 55,
     "metadata": {},
     "output_type": "execute_result"
    }
   ],
   "source": [
    "len(location8)"
   ]
  },
  {
   "cell_type": "code",
   "execution_count": 59,
   "id": "7c3e0887",
   "metadata": {},
   "outputs": [],
   "source": [
    "for i in range(1,8):\n",
    "    url = \"https://www.practo.com/delhi/psychiatrist?page=\"+str(i)\n",
    "    r= requests.get(url)\n",
    "    soup = BeautifulSoup(r.text, \"lxml\")\n",
    "    box= soup.find(\"div\", class_=\"pure-u-17-24 c-listing__left\")\n",
    "    fee_= box.find_all(\"span\",{'data-qa-id' : \"consultation_fee\"})\n",
    "    for i in fee_:\n",
    "        fee__=i.text\n",
    "        consult_fee8.append(fee__)"
   ]
  },
  {
   "cell_type": "code",
   "execution_count": 60,
   "id": "c72b69ae",
   "metadata": {},
   "outputs": [
    {
     "data": {
      "text/plain": [
       "61"
      ]
     },
     "execution_count": 60,
     "metadata": {},
     "output_type": "execute_result"
    }
   ],
   "source": [
    "len(consult_fee8)"
   ]
  },
  {
   "cell_type": "code",
   "execution_count": 61,
   "id": "12bd7094",
   "metadata": {},
   "outputs": [],
   "source": [
    "df8= pd.DataFrame({\"Name\":name8,\"Years of experience\":year_of_experience8,\n",
    "                  \"Location\":location8,\"Consultation fee\":consult_fee8})"
   ]
  },
  {
   "cell_type": "code",
   "execution_count": 62,
   "id": "e45b235a",
   "metadata": {},
   "outputs": [],
   "source": [
    "df8.to_csv(\"Downloads/DELHIPSYCHIATRIST.csv\")"
   ]
  },
  {
   "cell_type": "code",
   "execution_count": 63,
   "id": "41293c71",
   "metadata": {},
   "outputs": [],
   "source": [
    "name9=[]\n",
    "speciality_of_doctor9=[]\n",
    "year_of_experience9=[]\n",
    "location9=[]\n",
    "city9=[]\n",
    "consult_fee9=[]"
   ]
  },
  {
   "cell_type": "code",
   "execution_count": 64,
   "id": "2ba162f3",
   "metadata": {},
   "outputs": [],
   "source": [
    "for i in range(1,6):\n",
    "    url = \"https://www.practo.com/delhi/urologist?page=\"+str(i)\n",
    "    r= requests.get(url)\n",
    "    soup = BeautifulSoup(r.text, \"lxml\")\n",
    "    box= soup.find(\"div\", class_=\"pure-u-17-24 c-listing__left\")\n",
    "    name_= box.find_all(\"h2\",class_ = \"doctor-name\")\n",
    "    for i in name_:\n",
    "        name__=i.text\n",
    "        name9.append(name__)"
   ]
  },
  {
   "cell_type": "code",
   "execution_count": 65,
   "id": "12e9d723",
   "metadata": {},
   "outputs": [
    {
     "data": {
      "text/plain": [
       "50"
      ]
     },
     "execution_count": 65,
     "metadata": {},
     "output_type": "execute_result"
    }
   ],
   "source": [
    "len(name9)"
   ]
  },
  {
   "cell_type": "code",
   "execution_count": 66,
   "id": "25347a42",
   "metadata": {},
   "outputs": [],
   "source": [
    "for i in range(1,6):\n",
    "    url = \"https://www.practo.com/delhi/urologist?page=\"+str(i)\n",
    "    r= requests.get(url)\n",
    "    soup = BeautifulSoup(r.text, \"lxml\")\n",
    "    box= soup.find(\"div\", class_=\"pure-u-17-24 c-listing__left\")\n",
    "    ye_= box.find_all(\"div\",{'class' : \"uv2-spacer--xs-top\",'data-qa-id':\"doctor_experience\"})\n",
    "    for i in ye_:\n",
    "        ye__=i.text\n",
    "        year_of_experience9.append(ye__)"
   ]
  },
  {
   "cell_type": "code",
   "execution_count": 67,
   "id": "6b249739",
   "metadata": {},
   "outputs": [
    {
     "data": {
      "text/plain": [
       "50"
      ]
     },
     "execution_count": 67,
     "metadata": {},
     "output_type": "execute_result"
    }
   ],
   "source": [
    "len(year_of_experience9)"
   ]
  },
  {
   "cell_type": "code",
   "execution_count": 68,
   "id": "8277a31c",
   "metadata": {},
   "outputs": [],
   "source": [
    "for i in range(1,6):\n",
    "    url = \"https://www.practo.com/delhi/urologist?page=\"+str(i)\n",
    "    r= requests.get(url)\n",
    "    soup = BeautifulSoup(r.text, \"lxml\")\n",
    "    box= soup.find(\"div\", class_=\"pure-u-17-24 c-listing__left\")\n",
    "    loc_= box.find_all(\"div\",class_ = \"u-bold u-d-inlineblock u-valign--middle\")\n",
    "    for i in loc_:\n",
    "        loc__=i.text\n",
    "        location9.append(loc__)"
   ]
  },
  {
   "cell_type": "code",
   "execution_count": 69,
   "id": "59cbcf8f",
   "metadata": {},
   "outputs": [
    {
     "data": {
      "text/plain": [
       "50"
      ]
     },
     "execution_count": 69,
     "metadata": {},
     "output_type": "execute_result"
    }
   ],
   "source": [
    "len(location9)"
   ]
  },
  {
   "cell_type": "code",
   "execution_count": 70,
   "id": "5026f223",
   "metadata": {},
   "outputs": [],
   "source": [
    "for i in range(1,6):\n",
    "    url = \"https://www.practo.com/delhi/urologist?page=\"+str(i)\n",
    "    r= requests.get(url)\n",
    "    soup = BeautifulSoup(r.text, \"lxml\")\n",
    "    box= soup.find(\"div\", class_=\"pure-u-17-24 c-listing__left\")\n",
    "    fee_= box.find_all(\"span\",{'data-qa-id' : \"consultation_fee\"})\n",
    "    for i in fee_:\n",
    "        fee__=i.text\n",
    "        consult_fee9.append(fee__)"
   ]
  },
  {
   "cell_type": "code",
   "execution_count": 71,
   "id": "124b16d2",
   "metadata": {},
   "outputs": [
    {
     "data": {
      "text/plain": [
       "50"
      ]
     },
     "execution_count": 71,
     "metadata": {},
     "output_type": "execute_result"
    }
   ],
   "source": [
    "len(consult_fee9)"
   ]
  },
  {
   "cell_type": "code",
   "execution_count": 72,
   "id": "8b982b46",
   "metadata": {},
   "outputs": [],
   "source": [
    "df9= pd.DataFrame({\"Name\":name9,\"Years of experience\":year_of_experience9,\n",
    "                  \"Location\":location9,\"Consultation fee\":consult_fee9})"
   ]
  },
  {
   "cell_type": "code",
   "execution_count": 73,
   "id": "c22f0cb2",
   "metadata": {},
   "outputs": [],
   "source": [
    "df9.to_csv(\"Downloads/DELHIUROLOGIST.csv\")"
   ]
  },
  {
   "cell_type": "code",
   "execution_count": 74,
   "id": "f292e949",
   "metadata": {},
   "outputs": [],
   "source": [
    "name10=[]\n",
    "speciality_of_doctor10=[]\n",
    "year_of_experience10=[]\n",
    "location10=[]\n",
    "city10=[]\n",
    "consult_fee10=[]"
   ]
  },
  {
   "cell_type": "code",
   "execution_count": 75,
   "id": "9998e50c",
   "metadata": {},
   "outputs": [],
   "source": [
    "for i in range(1,6):\n",
    "    url = \"https://www.practo.com/delhi/neurologist?page=\"+str(i)\n",
    "    r= requests.get(url)\n",
    "    soup = BeautifulSoup(r.text, \"lxml\")\n",
    "    box= soup.find(\"div\", class_=\"pure-u-17-24 c-listing__left\")\n",
    "    name_= box.find_all(\"h2\",class_ = \"doctor-name\")\n",
    "    for i in name_:\n",
    "        name__=i.text\n",
    "        name10.append(name__)"
   ]
  },
  {
   "cell_type": "code",
   "execution_count": 76,
   "id": "7a8f8644",
   "metadata": {},
   "outputs": [
    {
     "data": {
      "text/plain": [
       "43"
      ]
     },
     "execution_count": 76,
     "metadata": {},
     "output_type": "execute_result"
    }
   ],
   "source": [
    "len(name10)"
   ]
  },
  {
   "cell_type": "code",
   "execution_count": 77,
   "id": "63bd09ca",
   "metadata": {},
   "outputs": [],
   "source": [
    "for i in range(1,6):\n",
    "    url = \"https://www.practo.com/delhi/neurologist?page=\"+str(i)\n",
    "    r= requests.get(url)\n",
    "    soup = BeautifulSoup(r.text, \"lxml\")\n",
    "    box= soup.find(\"div\", class_=\"pure-u-17-24 c-listing__left\")\n",
    "    ye_= box.find_all(\"div\",{'class' : \"uv2-spacer--xs-top\",'data-qa-id':\"doctor_experience\"})\n",
    "    for i in ye_:\n",
    "        ye__=i.text\n",
    "        year_of_experience10.append(ye__)"
   ]
  },
  {
   "cell_type": "code",
   "execution_count": 78,
   "id": "868fa611",
   "metadata": {},
   "outputs": [
    {
     "data": {
      "text/plain": [
       "43"
      ]
     },
     "execution_count": 78,
     "metadata": {},
     "output_type": "execute_result"
    }
   ],
   "source": [
    "len(year_of_experience10)"
   ]
  },
  {
   "cell_type": "code",
   "execution_count": 79,
   "id": "d54b85fd",
   "metadata": {},
   "outputs": [],
   "source": [
    "for i in range(1,6):\n",
    "    url = \"https://www.practo.com/delhi/neurologist?page=\"+str(i)\n",
    "    r= requests.get(url)\n",
    "    soup = BeautifulSoup(r.text, \"lxml\")\n",
    "    box= soup.find(\"div\", class_=\"pure-u-17-24 c-listing__left\")\n",
    "    loc_= box.find_all(\"div\",class_ = \"u-bold u-d-inlineblock u-valign--middle\")\n",
    "    for i in loc_:\n",
    "        loc__=i.text\n",
    "        location10.append(loc__)"
   ]
  },
  {
   "cell_type": "code",
   "execution_count": 80,
   "id": "d6e37a28",
   "metadata": {},
   "outputs": [
    {
     "data": {
      "text/plain": [
       "43"
      ]
     },
     "execution_count": 80,
     "metadata": {},
     "output_type": "execute_result"
    }
   ],
   "source": [
    "len(location10)"
   ]
  },
  {
   "cell_type": "code",
   "execution_count": 81,
   "id": "ccac729b",
   "metadata": {},
   "outputs": [],
   "source": [
    "for i in range(1,6):\n",
    "    url = \"https://www.practo.com/delhi/neurologist?page=\"+str(i)\n",
    "    r= requests.get(url)\n",
    "    soup = BeautifulSoup(r.text, \"lxml\")\n",
    "    box= soup.find(\"div\", class_=\"pure-u-17-24 c-listing__left\")\n",
    "    fee_= box.find_all(\"span\",{'data-qa-id' : \"consultation_fee\"})\n",
    "    for i in fee_:\n",
    "        fee__=i.text\n",
    "        consult_fee10.append(fee__)"
   ]
  },
  {
   "cell_type": "code",
   "execution_count": 82,
   "id": "c86b6058",
   "metadata": {},
   "outputs": [
    {
     "data": {
      "text/plain": [
       "43"
      ]
     },
     "execution_count": 82,
     "metadata": {},
     "output_type": "execute_result"
    }
   ],
   "source": [
    "len(consult_fee10)"
   ]
  },
  {
   "cell_type": "code",
   "execution_count": 83,
   "id": "2e498df3",
   "metadata": {},
   "outputs": [],
   "source": [
    "df10= pd.DataFrame({\"Name\":name10,\"Years of experience\":year_of_experience10,\n",
    "                  \"Location\":location10,\"Consultation fee\":consult_fee10})"
   ]
  },
  {
   "cell_type": "code",
   "execution_count": 84,
   "id": "185700f9",
   "metadata": {},
   "outputs": [],
   "source": [
    "df10.to_csv(\"Downloads/DELHINEUROLOGIST.csv\")"
   ]
  },
  {
   "cell_type": "code",
   "execution_count": null,
   "id": "727c677d",
   "metadata": {},
   "outputs": [],
   "source": []
  },
  {
   "cell_type": "code",
   "execution_count": null,
   "id": "d9736207",
   "metadata": {},
   "outputs": [],
   "source": []
  },
  {
   "cell_type": "code",
   "execution_count": null,
   "id": "7cc0185d",
   "metadata": {},
   "outputs": [],
   "source": []
  }
 ],
 "metadata": {
  "kernelspec": {
   "display_name": "Python 3 (ipykernel)",
   "language": "python",
   "name": "python3"
  },
  "language_info": {
   "codemirror_mode": {
    "name": "ipython",
    "version": 3
   },
   "file_extension": ".py",
   "mimetype": "text/x-python",
   "name": "python",
   "nbconvert_exporter": "python",
   "pygments_lexer": "ipython3",
   "version": "3.9.13"
  }
 },
 "nbformat": 4,
 "nbformat_minor": 5
}
