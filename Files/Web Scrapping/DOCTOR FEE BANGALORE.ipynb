{
 "cells": [
  {
   "cell_type": "code",
   "execution_count": 1,
   "id": "56fa15eb",
   "metadata": {},
   "outputs": [],
   "source": [
    "import pandas as pd\n",
    "import requests \n",
    "from bs4 import BeautifulSoup"
   ]
  },
  {
   "cell_type": "code",
   "execution_count": 2,
   "id": "3439a63f",
   "metadata": {},
   "outputs": [],
   "source": [
    "name1=[]\n",
    "speciality_of_doctor1=[]\n",
    "year_of_experience1=[]\n",
    "location1=[]\n",
    "city1=[]\n",
    "consult_fee1=[]"
   ]
  },
  {
   "cell_type": "code",
   "execution_count": 3,
   "id": "7d7f3617",
   "metadata": {},
   "outputs": [],
   "source": [
    "for i in range(1,12):\n",
    "    url = \"https://www.practo.com/bangalore/cardiologist?page=\"+str(i)\n",
    "    r= requests.get(url)\n",
    "    soup = BeautifulSoup(r.text, \"lxml\")\n",
    "    box= soup.find(\"div\", class_=\"pure-u-17-24 c-listing__left\")\n",
    "    name_= box.find_all(\"h2\",class_ = \"doctor-name\")\n",
    "    for i in name_:\n",
    "        name__=i.text\n",
    "        name1.append(name__)"
   ]
  },
  {
   "cell_type": "code",
   "execution_count": 4,
   "id": "28489298",
   "metadata": {},
   "outputs": [
    {
     "data": {
      "text/plain": [
       "104"
      ]
     },
     "execution_count": 4,
     "metadata": {},
     "output_type": "execute_result"
    }
   ],
   "source": [
    "len(name1)"
   ]
  },
  {
   "cell_type": "code",
   "execution_count": 5,
   "id": "f9dcaab4",
   "metadata": {},
   "outputs": [],
   "source": [
    "for i in range(1,12):\n",
    "    url = \"https://www.practo.com/bangalore/cardiologist?page=\"+str(i)\n",
    "    r= requests.get(url)\n",
    "    soup = BeautifulSoup(r.text, \"lxml\")\n",
    "    box= soup.find(\"div\", class_=\"pure-u-17-24 c-listing__left\")\n",
    "    ye_= box.find_all(\"div\",{'class' : \"uv2-spacer--xs-top\",'data-qa-id':\"doctor_experience\"})\n",
    "    for i in ye_:\n",
    "        ye__=i.text\n",
    "        year_of_experience1.append(ye__)"
   ]
  },
  {
   "cell_type": "code",
   "execution_count": 6,
   "id": "288fedde",
   "metadata": {},
   "outputs": [
    {
     "data": {
      "text/plain": [
       "104"
      ]
     },
     "execution_count": 6,
     "metadata": {},
     "output_type": "execute_result"
    }
   ],
   "source": [
    "len(year_of_experience1)"
   ]
  },
  {
   "cell_type": "code",
   "execution_count": 7,
   "id": "5b67ce90",
   "metadata": {},
   "outputs": [],
   "source": [
    "for i in range(1,12):\n",
    "    url = \"https://www.practo.com/bangalore/cardiologist?page=\"+str(i)\n",
    "    r= requests.get(url)\n",
    "    soup = BeautifulSoup(r.text, \"lxml\")\n",
    "    box= soup.find(\"div\", class_=\"pure-u-17-24 c-listing__left\")\n",
    "    loc_= box.find_all(\"div\",class_ = \"u-bold u-d-inlineblock u-valign--middle\")\n",
    "    for i in loc_:\n",
    "        loc__=i.text\n",
    "        location1.append(loc__)"
   ]
  },
  {
   "cell_type": "code",
   "execution_count": 8,
   "id": "4fb96874",
   "metadata": {},
   "outputs": [
    {
     "data": {
      "text/plain": [
       "104"
      ]
     },
     "execution_count": 8,
     "metadata": {},
     "output_type": "execute_result"
    }
   ],
   "source": [
    "len(location1)"
   ]
  },
  {
   "cell_type": "code",
   "execution_count": 9,
   "id": "b9ac74b5",
   "metadata": {},
   "outputs": [],
   "source": [
    "for i in range(1,12):\n",
    "    url = \"https://www.practo.com/bangalore/cardiologist?page=\"+str(i)\n",
    "    r= requests.get(url)\n",
    "    soup = BeautifulSoup(r.text, \"lxml\")\n",
    "    box= soup.find(\"div\", class_=\"pure-u-17-24 c-listing__left\")\n",
    "    fee_= box.find_all(\"span\",{'data-qa-id' : \"consultation_fee\"})\n",
    "    for i in fee_:\n",
    "        fee__=i.text\n",
    "        consult_fee1.append(fee__)"
   ]
  },
  {
   "cell_type": "code",
   "execution_count": 10,
   "id": "db233c82",
   "metadata": {},
   "outputs": [
    {
     "data": {
      "text/plain": [
       "104"
      ]
     },
     "execution_count": 10,
     "metadata": {},
     "output_type": "execute_result"
    }
   ],
   "source": [
    "len(consult_fee1)"
   ]
  },
  {
   "cell_type": "code",
   "execution_count": 11,
   "id": "ba72daa6",
   "metadata": {},
   "outputs": [],
   "source": [
    "df1= pd.DataFrame({\"Name\":name1,\"Years of experience\":year_of_experience1,\n",
    "                  \"Location\":location1,\"Consultation Fee\":consult_fee1})"
   ]
  },
  {
   "cell_type": "code",
   "execution_count": 12,
   "id": "329bb9b3",
   "metadata": {},
   "outputs": [],
   "source": [
    "df1.to_csv(\"Downloads/BANGALORECARDIOLOGIST.csv\")"
   ]
  },
  {
   "cell_type": "code",
   "execution_count": 13,
   "id": "2b324db5",
   "metadata": {},
   "outputs": [],
   "source": [
    "name2=[]\n",
    "speciality_of_doctor2=[]\n",
    "year_of_experience2=[]\n",
    "location2=[]\n",
    "city2=[]\n",
    "consult_fee2=[]"
   ]
  },
  {
   "cell_type": "code",
   "execution_count": 14,
   "id": "4e54099e",
   "metadata": {},
   "outputs": [],
   "source": [
    "for i in range(1,71):\n",
    "    url = \"https://www.practo.com/bangalore/dentist?page=\"+str(i)\n",
    "    r= requests.get(url)\n",
    "    soup = BeautifulSoup(r.text, \"lxml\")\n",
    "    box= soup.find(\"div\", class_=\"pure-u-17-24 c-listing__left\")\n",
    "    name_= box.find_all(\"h2\",class_ = \"doctor-name\")\n",
    "    for i in name_:\n",
    "        name__=i.text\n",
    "        name2.append(name__)"
   ]
  },
  {
   "cell_type": "code",
   "execution_count": 15,
   "id": "6066ec85",
   "metadata": {},
   "outputs": [
    {
     "data": {
      "text/plain": [
       "700"
      ]
     },
     "execution_count": 15,
     "metadata": {},
     "output_type": "execute_result"
    }
   ],
   "source": [
    "len(name2)"
   ]
  },
  {
   "cell_type": "code",
   "execution_count": 16,
   "id": "d375b5ec",
   "metadata": {},
   "outputs": [],
   "source": [
    "for i in range(1,71):\n",
    "    url = \"https://www.practo.com/bangalore/dentist?page=\"+str(i)\n",
    "    r= requests.get(url)\n",
    "    soup = BeautifulSoup(r.text, \"lxml\")\n",
    "    box= soup.find(\"div\", class_=\"pure-u-17-24 c-listing__left\")\n",
    "    ye_= box.find_all(\"div\",{'class' : \"uv2-spacer--xs-top\",'data-qa-id':\"doctor_experience\"})\n",
    "    for i in ye_:\n",
    "        ye__=i.text\n",
    "        year_of_experience2.append(ye__)"
   ]
  },
  {
   "cell_type": "code",
   "execution_count": 17,
   "id": "e2a2c285",
   "metadata": {},
   "outputs": [
    {
     "data": {
      "text/plain": [
       "700"
      ]
     },
     "execution_count": 17,
     "metadata": {},
     "output_type": "execute_result"
    }
   ],
   "source": [
    "len(year_of_experience2)"
   ]
  },
  {
   "cell_type": "code",
   "execution_count": 18,
   "id": "a20927a7",
   "metadata": {},
   "outputs": [],
   "source": [
    "for i in range(1,71):\n",
    "    url = \"https://www.practo.com/bangalore/dentist?page=\"+str(i)\n",
    "    r= requests.get(url)\n",
    "    soup = BeautifulSoup(r.text, \"lxml\")\n",
    "    box= soup.find(\"div\", class_=\"pure-u-17-24 c-listing__left\")\n",
    "    loc_= box.find_all(\"div\",class_ = \"u-bold u-d-inlineblock u-valign--middle\")\n",
    "    for i in loc_:\n",
    "        loc__=i.text\n",
    "        location2.append(loc__)"
   ]
  },
  {
   "cell_type": "code",
   "execution_count": 19,
   "id": "909d132a",
   "metadata": {},
   "outputs": [
    {
     "data": {
      "text/plain": [
       "700"
      ]
     },
     "execution_count": 19,
     "metadata": {},
     "output_type": "execute_result"
    }
   ],
   "source": [
    "len(location2)"
   ]
  },
  {
   "cell_type": "code",
   "execution_count": 23,
   "id": "700dde15",
   "metadata": {},
   "outputs": [],
   "source": [
    "df2= pd.DataFrame({\"Name\":name2,\"Years of experience\":year_of_experience2,\n",
    "                  \"Location\":location2})"
   ]
  },
  {
   "cell_type": "code",
   "execution_count": 24,
   "id": "2eea34fc",
   "metadata": {},
   "outputs": [],
   "source": [
    "df2.to_csv(\"Downloads/BANGALOREDENTIST.csv\")"
   ]
  },
  {
   "cell_type": "code",
   "execution_count": 25,
   "id": "57b2adbe",
   "metadata": {},
   "outputs": [],
   "source": [
    "name3=[]\n",
    "speciality_of_doctor3=[]\n",
    "year_of_experience3=[]\n",
    "location3=[]\n",
    "city3=[]\n",
    "consult_fee3=[]"
   ]
  },
  {
   "cell_type": "code",
   "execution_count": 26,
   "id": "2e2a287f",
   "metadata": {},
   "outputs": [],
   "source": [
    "for i in range(1,12):\n",
    "    url = \"https://www.practo.com/bangalore/gynecologist?page=\"+str(i)\n",
    "    r= requests.get(url)\n",
    "    soup = BeautifulSoup(r.text, \"lxml\")\n",
    "    box= soup.find(\"div\", class_=\"pure-u-17-24 c-listing__left\")\n",
    "    name_= box.find_all(\"h2\",class_ = \"doctor-name\")\n",
    "    for i in name_:\n",
    "        name__=i.text\n",
    "        name3.append(name__)"
   ]
  },
  {
   "cell_type": "code",
   "execution_count": 27,
   "id": "08d809f3",
   "metadata": {},
   "outputs": [
    {
     "data": {
      "text/plain": [
       "110"
      ]
     },
     "execution_count": 27,
     "metadata": {},
     "output_type": "execute_result"
    }
   ],
   "source": [
    "len(name3)"
   ]
  },
  {
   "cell_type": "code",
   "execution_count": 28,
   "id": "e44bde84",
   "metadata": {},
   "outputs": [],
   "source": [
    "for i in range(1,12):\n",
    "    url = \"https://www.practo.com/bangalore/gynecologist?page=\"+str(i)\n",
    "    r= requests.get(url)\n",
    "    soup = BeautifulSoup(r.text, \"lxml\")\n",
    "    box= soup.find(\"div\", class_=\"pure-u-17-24 c-listing__left\")\n",
    "    ye_= box.find_all(\"div\",{'class' : \"uv2-spacer--xs-top\",'data-qa-id':\"doctor_experience\"})\n",
    "    for i in ye_:\n",
    "        ye__=i.text\n",
    "        year_of_experience3.append(ye__)"
   ]
  },
  {
   "cell_type": "code",
   "execution_count": 29,
   "id": "d6a843f8",
   "metadata": {},
   "outputs": [
    {
     "data": {
      "text/plain": [
       "110"
      ]
     },
     "execution_count": 29,
     "metadata": {},
     "output_type": "execute_result"
    }
   ],
   "source": [
    "len(year_of_experience3)"
   ]
  },
  {
   "cell_type": "code",
   "execution_count": 30,
   "id": "2681b207",
   "metadata": {},
   "outputs": [],
   "source": [
    "for i in range(1,12):\n",
    "    url = \"https://www.practo.com/bangalore/gynecologist?page=\"+str(i)\n",
    "    r= requests.get(url)\n",
    "    soup = BeautifulSoup(r.text, \"lxml\")\n",
    "    box= soup.find(\"div\", class_=\"pure-u-17-24 c-listing__left\")\n",
    "    loc_= box.find_all(\"div\",class_ = \"u-bold u-d-inlineblock u-valign--middle\")\n",
    "    for i in loc_:\n",
    "        loc__=i.text\n",
    "        location3.append(loc__)"
   ]
  },
  {
   "cell_type": "code",
   "execution_count": 31,
   "id": "43a4f06a",
   "metadata": {},
   "outputs": [
    {
     "data": {
      "text/plain": [
       "110"
      ]
     },
     "execution_count": 31,
     "metadata": {},
     "output_type": "execute_result"
    }
   ],
   "source": [
    "len(location3)"
   ]
  },
  {
   "cell_type": "code",
   "execution_count": 32,
   "id": "4895e9a3",
   "metadata": {},
   "outputs": [],
   "source": [
    "for i in range(1,12):\n",
    "    url = \"https://www.practo.com/bangalore/gynecologist?page=\"+str(i)\n",
    "    r= requests.get(url)\n",
    "    soup = BeautifulSoup(r.text, \"lxml\")\n",
    "    box= soup.find(\"div\", class_=\"pure-u-17-24 c-listing__left\")\n",
    "    fee_= box.find_all(\"span\",{'data-qa-id' : \"consultation_fee\"})\n",
    "    for i in fee_:\n",
    "        fee__=i.text\n",
    "        consult_fee3.append(fee__)"
   ]
  },
  {
   "cell_type": "code",
   "execution_count": 33,
   "id": "57ec554e",
   "metadata": {},
   "outputs": [
    {
     "data": {
      "text/plain": [
       "110"
      ]
     },
     "execution_count": 33,
     "metadata": {},
     "output_type": "execute_result"
    }
   ],
   "source": [
    "len(consult_fee3)"
   ]
  },
  {
   "cell_type": "code",
   "execution_count": 34,
   "id": "ed926eaa",
   "metadata": {},
   "outputs": [],
   "source": [
    "df3= pd.DataFrame({\"Name\":name3,\"Years of experience\":year_of_experience3,\n",
    "                  \"Location\":location3,\"Consultation fee\":consult_fee3})"
   ]
  },
  {
   "cell_type": "code",
   "execution_count": 35,
   "id": "3edf7bb3",
   "metadata": {},
   "outputs": [],
   "source": [
    "df3.to_csv(\"Downloads/BANGALOREGYNECOLOGIST.csv\")"
   ]
  },
  {
   "cell_type": "code",
   "execution_count": 36,
   "id": "54b6942c",
   "metadata": {},
   "outputs": [],
   "source": [
    "name4=[]\n",
    "speciality_of_doctor4=[]\n",
    "year_of_experience4=[]\n",
    "location4=[]\n",
    "city4=[]\n",
    "consult_fee4=[]"
   ]
  },
  {
   "cell_type": "code",
   "execution_count": 37,
   "id": "dbff7636",
   "metadata": {},
   "outputs": [],
   "source": [
    "for i in range(1,26):\n",
    "    url = \"https://www.practo.com/bangalore/pediatrician?page=\"+str(i)\n",
    "    r= requests.get(url)\n",
    "    soup = BeautifulSoup(r.text, \"lxml\")\n",
    "    box= soup.find(\"div\", class_=\"pure-u-17-24 c-listing__left\")\n",
    "    name_= box.find_all(\"h2\",class_ = \"doctor-name\")\n",
    "    for i in name_:\n",
    "        name__=i.text\n",
    "        name4.append(name__)"
   ]
  },
  {
   "cell_type": "code",
   "execution_count": 38,
   "id": "966ee1a6",
   "metadata": {},
   "outputs": [
    {
     "data": {
      "text/plain": [
       "248"
      ]
     },
     "execution_count": 38,
     "metadata": {},
     "output_type": "execute_result"
    }
   ],
   "source": [
    "len(name4)"
   ]
  },
  {
   "cell_type": "code",
   "execution_count": 39,
   "id": "ba12a53c",
   "metadata": {},
   "outputs": [],
   "source": [
    "for i in range(1,26):\n",
    "    url = \"https://www.practo.com/bangalore/pediatrician?page=\"+str(i)\n",
    "    r= requests.get(url)\n",
    "    soup = BeautifulSoup(r.text, \"lxml\")\n",
    "    box= soup.find(\"div\", class_=\"pure-u-17-24 c-listing__left\")\n",
    "    ye_= box.find_all(\"div\",{'class' : \"uv2-spacer--xs-top\",'data-qa-id':\"doctor_experience\"})\n",
    "    for i in ye_:\n",
    "        ye__=i.text\n",
    "        year_of_experience4.append(ye__)"
   ]
  },
  {
   "cell_type": "code",
   "execution_count": 40,
   "id": "df2d313a",
   "metadata": {},
   "outputs": [
    {
     "data": {
      "text/plain": [
       "248"
      ]
     },
     "execution_count": 40,
     "metadata": {},
     "output_type": "execute_result"
    }
   ],
   "source": [
    "len(year_of_experience4)"
   ]
  },
  {
   "cell_type": "code",
   "execution_count": 41,
   "id": "589ca1ff",
   "metadata": {},
   "outputs": [],
   "source": [
    "for i in range(1,26):\n",
    "    url = \"https://www.practo.com/bangalore/pediatrician?page=\"+str(i)\n",
    "    r= requests.get(url)\n",
    "    soup = BeautifulSoup(r.text, \"lxml\")\n",
    "    box= soup.find(\"div\", class_=\"pure-u-17-24 c-listing__left\")\n",
    "    loc_= box.find_all(\"div\",class_ = \"u-bold u-d-inlineblock u-valign--middle\")\n",
    "    for i in loc_:\n",
    "        loc__=i.text\n",
    "        location4.append(loc__)"
   ]
  },
  {
   "cell_type": "code",
   "execution_count": 42,
   "id": "f9b84edd",
   "metadata": {},
   "outputs": [
    {
     "data": {
      "text/plain": [
       "248"
      ]
     },
     "execution_count": 42,
     "metadata": {},
     "output_type": "execute_result"
    }
   ],
   "source": [
    "len(location4)"
   ]
  },
  {
   "cell_type": "code",
   "execution_count": 43,
   "id": "d8f3ed44",
   "metadata": {},
   "outputs": [],
   "source": [
    "for i in range(1,26):\n",
    "    url = \"https://www.practo.com/bangalore/pediatrician?page=\"+str(i)\n",
    "    r= requests.get(url)\n",
    "    soup = BeautifulSoup(r.text, \"lxml\")\n",
    "    box= soup.find(\"div\", class_=\"pure-u-17-24 c-listing__left\")\n",
    "    fee_= box.find_all(\"span\",{'data-qa-id' : \"consultation_fee\"})\n",
    "    for i in fee_:\n",
    "        fee__=i.text\n",
    "        consult_fee4.append(fee__)"
   ]
  },
  {
   "cell_type": "code",
   "execution_count": 44,
   "id": "c39a7eab",
   "metadata": {},
   "outputs": [
    {
     "data": {
      "text/plain": [
       "248"
      ]
     },
     "execution_count": 44,
     "metadata": {},
     "output_type": "execute_result"
    }
   ],
   "source": [
    "len(consult_fee4)"
   ]
  },
  {
   "cell_type": "code",
   "execution_count": 45,
   "id": "63730160",
   "metadata": {},
   "outputs": [],
   "source": [
    "df4= pd.DataFrame({\"Name\":name4,\"Years of experience\":year_of_experience4,\n",
    "                  \"Location\":location4,\"Consultation fee\":consult_fee4})"
   ]
  },
  {
   "cell_type": "code",
   "execution_count": 46,
   "id": "1c0207d9",
   "metadata": {},
   "outputs": [],
   "source": [
    "df4.to_csv(\"Downloads/BANGALOREPEDIATRICIAN.csv\")"
   ]
  },
  {
   "cell_type": "code",
   "execution_count": 47,
   "id": "a940a620",
   "metadata": {},
   "outputs": [],
   "source": [
    "name5=[]\n",
    "speciality_of_doctor5=[]\n",
    "year_of_experience5=[]\n",
    "location5=[]\n",
    "city5=[]\n",
    "consult_fee5=[]"
   ]
  },
  {
   "cell_type": "code",
   "execution_count": 54,
   "id": "ae82ba04",
   "metadata": {},
   "outputs": [],
   "source": [
    "for i in range(1,15):\n",
    "    url = \"https://www.practo.com/bangalore/physiotherapist?page=\"+str(i)\n",
    "    r= requests.get(url)\n",
    "    soup = BeautifulSoup(r.text, \"lxml\")\n",
    "    box= soup.find(\"div\", class_=\"pure-u-17-24 c-listing__left\")\n",
    "    name_= box.find_all(\"h2\",class_ = \"doctor-name\")\n",
    "    for i in name_:\n",
    "        name__=i.text\n",
    "        name5.append(name__)"
   ]
  },
  {
   "cell_type": "code",
   "execution_count": 55,
   "id": "2cbdb4c9",
   "metadata": {},
   "outputs": [
    {
     "data": {
      "text/plain": [
       "137"
      ]
     },
     "execution_count": 55,
     "metadata": {},
     "output_type": "execute_result"
    }
   ],
   "source": [
    "len(name5)"
   ]
  },
  {
   "cell_type": "code",
   "execution_count": 56,
   "id": "3b7a4c3c",
   "metadata": {},
   "outputs": [],
   "source": [
    "for i in range(1,15):\n",
    "    url = \"https://www.practo.com/bangalore/physiotherapist?page=\"+str(i)\n",
    "    r= requests.get(url)\n",
    "    soup = BeautifulSoup(r.text, \"lxml\")\n",
    "    box= soup.find(\"div\", class_=\"pure-u-17-24 c-listing__left\")\n",
    "    ye_= box.find_all(\"div\",{'class' : \"uv2-spacer--xs-top\",'data-qa-id':\"doctor_experience\"})\n",
    "    for i in ye_:\n",
    "        ye__=i.text\n",
    "        year_of_experience5.append(ye__)"
   ]
  },
  {
   "cell_type": "code",
   "execution_count": 57,
   "id": "e0e63c87",
   "metadata": {},
   "outputs": [
    {
     "data": {
      "text/plain": [
       "137"
      ]
     },
     "execution_count": 57,
     "metadata": {},
     "output_type": "execute_result"
    }
   ],
   "source": [
    "len( year_of_experience5)"
   ]
  },
  {
   "cell_type": "code",
   "execution_count": 58,
   "id": "9aa7b877",
   "metadata": {},
   "outputs": [],
   "source": [
    "for i in range(1,15):\n",
    "    url = \"https://www.practo.com/bangalore/physiotherapist?page=\"+str(i)\n",
    "    r= requests.get(url)\n",
    "    soup = BeautifulSoup(r.text, \"lxml\")\n",
    "    box= soup.find(\"div\", class_=\"pure-u-17-24 c-listing__left\")\n",
    "    loc_= box.find_all(\"div\",class_ = \"u-bold u-d-inlineblock u-valign--middle\")\n",
    "    for i in loc_:\n",
    "        loc__=i.text\n",
    "        location5.append(loc__)"
   ]
  },
  {
   "cell_type": "code",
   "execution_count": 59,
   "id": "740af44d",
   "metadata": {},
   "outputs": [
    {
     "data": {
      "text/plain": [
       "137"
      ]
     },
     "execution_count": 59,
     "metadata": {},
     "output_type": "execute_result"
    }
   ],
   "source": [
    "len(location5)"
   ]
  },
  {
   "cell_type": "code",
   "execution_count": 60,
   "id": "e582b113",
   "metadata": {},
   "outputs": [],
   "source": [
    "for i in range(1,15):\n",
    "    url = \"https://www.practo.com/bangalore/physiotherapist?page=\"+str(i)\n",
    "    r= requests.get(url)\n",
    "    soup = BeautifulSoup(r.text, \"lxml\")\n",
    "    box= soup.find(\"div\", class_=\"pure-u-17-24 c-listing__left\")\n",
    "    fee_= box.find_all(\"span\",{'data-qa-id' : \"consultation_fee\"})\n",
    "    for i in fee_:\n",
    "        fee__=i.text\n",
    "        consult_fee5.append(fee__)"
   ]
  },
  {
   "cell_type": "code",
   "execution_count": 61,
   "id": "0d032c6e",
   "metadata": {},
   "outputs": [
    {
     "data": {
      "text/plain": [
       "137"
      ]
     },
     "execution_count": 61,
     "metadata": {},
     "output_type": "execute_result"
    }
   ],
   "source": [
    "len(consult_fee5)"
   ]
  },
  {
   "cell_type": "code",
   "execution_count": 62,
   "id": "e16f15b6",
   "metadata": {},
   "outputs": [],
   "source": [
    "df5= pd.DataFrame({\"Name\":name5,\"Years of experience\":year_of_experience5,\n",
    "                  \"Location\":location5,\"Consultation fee\":consult_fee5})"
   ]
  },
  {
   "cell_type": "code",
   "execution_count": 63,
   "id": "956939ef",
   "metadata": {},
   "outputs": [],
   "source": [
    "df5.to_csv(\"Downloads/BANGALOREPHYSIOTHERIPIST.csv\")"
   ]
  },
  {
   "cell_type": "code",
   "execution_count": 64,
   "id": "06a9bb0e",
   "metadata": {},
   "outputs": [],
   "source": [
    "name6=[]\n",
    "speciality_of_doctor6=[]\n",
    "year_of_experience6=[]\n",
    "location6=[]\n",
    "city6=[]\n",
    "consult_fee6=[]"
   ]
  },
  {
   "cell_type": "code",
   "execution_count": 65,
   "id": "052dc07e",
   "metadata": {},
   "outputs": [],
   "source": [
    "for i in range(1,18):\n",
    "    url = \"https://www.practo.com/bangalore/dermatologist?page=\"+str(i)\n",
    "    r= requests.get(url)\n",
    "    soup = BeautifulSoup(r.text, \"lxml\")\n",
    "    box= soup.find(\"div\", class_=\"pure-u-17-24 c-listing__left\")\n",
    "    name_= box.find_all(\"h2\",class_ = \"doctor-name\")\n",
    "    for i in name_:\n",
    "        name__=i.text\n",
    "        name6.append(name__)"
   ]
  },
  {
   "cell_type": "code",
   "execution_count": 66,
   "id": "73ed96ea",
   "metadata": {},
   "outputs": [
    {
     "data": {
      "text/plain": [
       "168"
      ]
     },
     "execution_count": 66,
     "metadata": {},
     "output_type": "execute_result"
    }
   ],
   "source": [
    "len(name6)"
   ]
  },
  {
   "cell_type": "code",
   "execution_count": 67,
   "id": "8d235a05",
   "metadata": {},
   "outputs": [],
   "source": [
    "for i in range(1,18):\n",
    "    url = \"https://www.practo.com/bangalore/dermatologist?page=\"+str(i)\n",
    "    r= requests.get(url)\n",
    "    soup = BeautifulSoup(r.text, \"lxml\")\n",
    "    box= soup.find(\"div\", class_=\"pure-u-17-24 c-listing__left\")\n",
    "    ye_= box.find_all(\"div\",{'class' : \"uv2-spacer--xs-top\",'data-qa-id':\"doctor_experience\"})\n",
    "    for i in ye_:\n",
    "        ye__=i.text\n",
    "        year_of_experience6.append(ye__)"
   ]
  },
  {
   "cell_type": "code",
   "execution_count": 68,
   "id": "d81bdff2",
   "metadata": {},
   "outputs": [
    {
     "data": {
      "text/plain": [
       "168"
      ]
     },
     "execution_count": 68,
     "metadata": {},
     "output_type": "execute_result"
    }
   ],
   "source": [
    "len(year_of_experience6)"
   ]
  },
  {
   "cell_type": "code",
   "execution_count": 69,
   "id": "287b89a7",
   "metadata": {},
   "outputs": [],
   "source": [
    "for i in range(1,18):\n",
    "    url = \"https://www.practo.com/bangalore/dermatologist?page=\"+str(i)\n",
    "    r= requests.get(url)\n",
    "    soup = BeautifulSoup(r.text, \"lxml\")\n",
    "    box= soup.find(\"div\", class_=\"pure-u-17-24 c-listing__left\")\n",
    "    loc_= box.find_all(\"div\",class_ = \"u-bold u-d-inlineblock u-valign--middle\")\n",
    "    for i in loc_:\n",
    "        loc__=i.text\n",
    "        location6.append(loc__)"
   ]
  },
  {
   "cell_type": "code",
   "execution_count": 70,
   "id": "e097df3e",
   "metadata": {},
   "outputs": [
    {
     "data": {
      "text/plain": [
       "168"
      ]
     },
     "execution_count": 70,
     "metadata": {},
     "output_type": "execute_result"
    }
   ],
   "source": [
    "len(location6)"
   ]
  },
  {
   "cell_type": "code",
   "execution_count": 71,
   "id": "87797329",
   "metadata": {},
   "outputs": [],
   "source": [
    "for i in range(1,18):\n",
    "    url = \"https://www.practo.com/bangalore/dermatologist?page=\"+str(i)\n",
    "    r= requests.get(url)\n",
    "    soup = BeautifulSoup(r.text, \"lxml\")\n",
    "    box= soup.find(\"div\", class_=\"pure-u-17-24 c-listing__left\")\n",
    "    fee_= box.find_all(\"span\",{'data-qa-id' : \"consultation_fee\"})\n",
    "    for i in fee_:\n",
    "        fee__=i.text\n",
    "        consult_fee6.append(fee__)"
   ]
  },
  {
   "cell_type": "code",
   "execution_count": 72,
   "id": "6a7ff621",
   "metadata": {},
   "outputs": [
    {
     "data": {
      "text/plain": [
       "168"
      ]
     },
     "execution_count": 72,
     "metadata": {},
     "output_type": "execute_result"
    }
   ],
   "source": [
    "len(consult_fee6)"
   ]
  },
  {
   "cell_type": "code",
   "execution_count": 73,
   "id": "2063f063",
   "metadata": {},
   "outputs": [],
   "source": [
    "df6= pd.DataFrame({\"Name\":name6,\"Years of experience\":year_of_experience6,\n",
    "                  \"Location\":location6,\"Consultation fee\":consult_fee6})"
   ]
  },
  {
   "cell_type": "code",
   "execution_count": 74,
   "id": "42cd9ea8",
   "metadata": {},
   "outputs": [],
   "source": [
    "df6.to_csv(\"Downloads/BANGALOREDERMATOLOGIST.csv\")"
   ]
  },
  {
   "cell_type": "code",
   "execution_count": 75,
   "id": "8b059680",
   "metadata": {},
   "outputs": [],
   "source": [
    "name7=[]\n",
    "speciality_of_doctor7=[]\n",
    "year_of_experience7=[]\n",
    "location7=[]\n",
    "city7=[]\n",
    "consult_fee7=[]"
   ]
  },
  {
   "cell_type": "code",
   "execution_count": 76,
   "id": "2b3132cc",
   "metadata": {},
   "outputs": [],
   "source": [
    "for i in range(1,5):\n",
    "    url = \"https://www.practo.com/bangalore/dietitian-nutritionist?page=\"+str(i)\n",
    "    r= requests.get(url)\n",
    "    soup = BeautifulSoup(r.text, \"lxml\")\n",
    "    box= soup.find(\"div\", class_=\"pure-u-17-24 c-listing__left\")\n",
    "    name_= box.find_all(\"h2\",class_ = \"doctor-name\")\n",
    "    for i in name_:\n",
    "        name__=i.text\n",
    "        name7.append(name__)"
   ]
  },
  {
   "cell_type": "code",
   "execution_count": 77,
   "id": "ba308bf1",
   "metadata": {},
   "outputs": [
    {
     "data": {
      "text/plain": [
       "35"
      ]
     },
     "execution_count": 77,
     "metadata": {},
     "output_type": "execute_result"
    }
   ],
   "source": [
    "len(name7)"
   ]
  },
  {
   "cell_type": "code",
   "execution_count": 78,
   "id": "db26216d",
   "metadata": {},
   "outputs": [],
   "source": [
    "for i in range(1,5):\n",
    "    url = \"https://www.practo.com/bangalore/dietitian-nutritionist?page=\"+str(i)\n",
    "    r= requests.get(url)\n",
    "    soup = BeautifulSoup(r.text, \"lxml\")\n",
    "    box= soup.find(\"div\", class_=\"pure-u-17-24 c-listing__left\")\n",
    "    ye_= box.find_all(\"div\",{'class' : \"uv2-spacer--xs-top\",'data-qa-id':\"doctor_experience\"})\n",
    "    for i in ye_:\n",
    "        ye__=i.text\n",
    "        year_of_experience7.append(ye__)"
   ]
  },
  {
   "cell_type": "code",
   "execution_count": 79,
   "id": "5c2346e8",
   "metadata": {},
   "outputs": [
    {
     "data": {
      "text/plain": [
       "35"
      ]
     },
     "execution_count": 79,
     "metadata": {},
     "output_type": "execute_result"
    }
   ],
   "source": [
    "len(year_of_experience7)"
   ]
  },
  {
   "cell_type": "code",
   "execution_count": 80,
   "id": "b51046d8",
   "metadata": {},
   "outputs": [],
   "source": [
    "for i in range(1,5):\n",
    "    url = \"https://www.practo.com/bangalore/dietitian-nutritionist?page=\"+str(i)\n",
    "    r= requests.get(url)\n",
    "    soup = BeautifulSoup(r.text, \"lxml\")\n",
    "    box= soup.find(\"div\", class_=\"pure-u-17-24 c-listing__left\")\n",
    "    loc_= box.find_all(\"div\",class_ = \"u-bold u-d-inlineblock u-valign--middle\")\n",
    "    for i in loc_:\n",
    "        loc__=i.text\n",
    "        location7.append(loc__)"
   ]
  },
  {
   "cell_type": "code",
   "execution_count": 81,
   "id": "c514a670",
   "metadata": {},
   "outputs": [
    {
     "data": {
      "text/plain": [
       "35"
      ]
     },
     "execution_count": 81,
     "metadata": {},
     "output_type": "execute_result"
    }
   ],
   "source": [
    "len(location7)"
   ]
  },
  {
   "cell_type": "code",
   "execution_count": 82,
   "id": "e0d037d8",
   "metadata": {},
   "outputs": [],
   "source": [
    "for i in range(1,5):\n",
    "    url = \"https://www.practo.com/bangalore/dietitian-nutritionist?page=\"+str(i)\n",
    "    r= requests.get(url)\n",
    "    soup = BeautifulSoup(r.text, \"lxml\")\n",
    "    box= soup.find(\"div\", class_=\"pure-u-17-24 c-listing__left\")\n",
    "    fee_= box.find_all(\"span\",{'data-qa-id' : \"consultation_fee\"})\n",
    "    for i in fee_:\n",
    "        fee__=i.text\n",
    "        consult_fee7.append(fee__)"
   ]
  },
  {
   "cell_type": "code",
   "execution_count": 83,
   "id": "d6b80d87",
   "metadata": {},
   "outputs": [
    {
     "data": {
      "text/plain": [
       "35"
      ]
     },
     "execution_count": 83,
     "metadata": {},
     "output_type": "execute_result"
    }
   ],
   "source": [
    "len(consult_fee7)"
   ]
  },
  {
   "cell_type": "code",
   "execution_count": 84,
   "id": "97a7bdaf",
   "metadata": {},
   "outputs": [],
   "source": [
    "df7= pd.DataFrame({\"Name\":name7,\"Years of experience\":year_of_experience7,\n",
    "                  \"Location\":location7,\"Consultation fee\":consult_fee7})"
   ]
  },
  {
   "cell_type": "code",
   "execution_count": 85,
   "id": "a07185f4",
   "metadata": {},
   "outputs": [],
   "source": [
    "df7.to_csv(\"Downloads/BANGALOREDIETICIAN.csv\")"
   ]
  },
  {
   "cell_type": "code",
   "execution_count": 86,
   "id": "23c9c776",
   "metadata": {},
   "outputs": [],
   "source": [
    "name8=[]\n",
    "speciality_of_doctor8=[]\n",
    "year_of_experience8=[]\n",
    "location8=[]\n",
    "city8=[]\n",
    "consult_fee8=[]"
   ]
  },
  {
   "cell_type": "code",
   "execution_count": 87,
   "id": "e8f0a1dd",
   "metadata": {},
   "outputs": [],
   "source": [
    "for i in range(1,8):\n",
    "    url = \"https://www.practo.com/bangalore/psychiatrist?page=\"+str(i)\n",
    "    r= requests.get(url)\n",
    "    soup = BeautifulSoup(r.text, \"lxml\")\n",
    "    box= soup.find(\"div\", class_=\"pure-u-17-24 c-listing__left\")\n",
    "    name_= box.find_all(\"h2\",class_ = \"doctor-name\")\n",
    "    for i in name_:\n",
    "        name__=i.text\n",
    "        name8.append(name__)"
   ]
  },
  {
   "cell_type": "code",
   "execution_count": 88,
   "id": "f0911a2a",
   "metadata": {},
   "outputs": [
    {
     "data": {
      "text/plain": [
       "66"
      ]
     },
     "execution_count": 88,
     "metadata": {},
     "output_type": "execute_result"
    }
   ],
   "source": [
    "len(name8)"
   ]
  },
  {
   "cell_type": "code",
   "execution_count": 89,
   "id": "e80feafb",
   "metadata": {},
   "outputs": [],
   "source": [
    "for i in range(1,8):\n",
    "    url = \"https://www.practo.com/bangalore/psychiatrist?page=\"+str(i)\n",
    "    r= requests.get(url)\n",
    "    soup = BeautifulSoup(r.text, \"lxml\")\n",
    "    box= soup.find(\"div\", class_=\"pure-u-17-24 c-listing__left\")\n",
    "    ye_= box.find_all(\"div\",{'class' : \"uv2-spacer--xs-top\",'data-qa-id':\"doctor_experience\"})\n",
    "    for i in ye_:\n",
    "        ye__=i.text\n",
    "        year_of_experience8.append(ye__)"
   ]
  },
  {
   "cell_type": "code",
   "execution_count": 90,
   "id": "10b78c09",
   "metadata": {},
   "outputs": [
    {
     "data": {
      "text/plain": [
       "66"
      ]
     },
     "execution_count": 90,
     "metadata": {},
     "output_type": "execute_result"
    }
   ],
   "source": [
    "len(year_of_experience8)"
   ]
  },
  {
   "cell_type": "code",
   "execution_count": 91,
   "id": "9bcc224c",
   "metadata": {},
   "outputs": [],
   "source": [
    "for i in range(1,8):\n",
    "    url = \"https://www.practo.com/bangalore/psychiatrist?page=\"+str(i)\n",
    "    r= requests.get(url)\n",
    "    soup = BeautifulSoup(r.text, \"lxml\")\n",
    "    box= soup.find(\"div\", class_=\"pure-u-17-24 c-listing__left\")\n",
    "    loc_= box.find_all(\"div\",class_ = \"u-bold u-d-inlineblock u-valign--middle\")\n",
    "    for i in loc_:\n",
    "        loc__=i.text\n",
    "        location8.append(loc__)"
   ]
  },
  {
   "cell_type": "code",
   "execution_count": 92,
   "id": "b1a21c53",
   "metadata": {},
   "outputs": [
    {
     "data": {
      "text/plain": [
       "66"
      ]
     },
     "execution_count": 92,
     "metadata": {},
     "output_type": "execute_result"
    }
   ],
   "source": [
    "len(location8)"
   ]
  },
  {
   "cell_type": "code",
   "execution_count": 93,
   "id": "232371d1",
   "metadata": {},
   "outputs": [],
   "source": [
    "for i in range(1,8):\n",
    "    url = \"https://www.practo.com/bangalore/psychiatrist?page=\"+str(i)\n",
    "    r= requests.get(url)\n",
    "    soup = BeautifulSoup(r.text, \"lxml\")\n",
    "    box= soup.find(\"div\", class_=\"pure-u-17-24 c-listing__left\")\n",
    "    fee_= box.find_all(\"span\",{'data-qa-id' : \"consultation_fee\"})\n",
    "    for i in fee_:\n",
    "        fee__=i.text\n",
    "        consult_fee8.append(fee__)"
   ]
  },
  {
   "cell_type": "code",
   "execution_count": 94,
   "id": "cb52f726",
   "metadata": {},
   "outputs": [
    {
     "data": {
      "text/plain": [
       "66"
      ]
     },
     "execution_count": 94,
     "metadata": {},
     "output_type": "execute_result"
    }
   ],
   "source": [
    "len(consult_fee8)"
   ]
  },
  {
   "cell_type": "code",
   "execution_count": 95,
   "id": "1be3ce6b",
   "metadata": {},
   "outputs": [],
   "source": [
    "df8= pd.DataFrame({\"Name\":name8,\"Years of experience\":year_of_experience8,\n",
    "                  \"Location\":location8,\"Consultation fee\":consult_fee8})"
   ]
  },
  {
   "cell_type": "code",
   "execution_count": 96,
   "id": "b7036da1",
   "metadata": {},
   "outputs": [],
   "source": [
    "df8.to_csv(\"Downloads/BANGALOREPSYCHIATRIST.csv\")"
   ]
  },
  {
   "cell_type": "code",
   "execution_count": 97,
   "id": "2f2b94b3",
   "metadata": {},
   "outputs": [],
   "source": [
    "name9=[]\n",
    "speciality_of_doctor9=[]\n",
    "year_of_experience9=[]\n",
    "location9=[]\n",
    "city9=[]\n",
    "consult_fee9=[]"
   ]
  },
  {
   "cell_type": "code",
   "execution_count": 98,
   "id": "8e6512d3",
   "metadata": {},
   "outputs": [],
   "source": [
    "for i in range(1,10):\n",
    "    url = \"https://www.practo.com/bangalore/urologist?page=\"+str(i)\n",
    "    r= requests.get(url)\n",
    "    soup = BeautifulSoup(r.text, \"lxml\")\n",
    "    box= soup.find(\"div\", class_=\"pure-u-17-24 c-listing__left\")\n",
    "    name_= box.find_all(\"h2\",class_ = \"doctor-name\")\n",
    "    for i in name_:\n",
    "        name__=i.text\n",
    "        name9.append(name__)"
   ]
  },
  {
   "cell_type": "code",
   "execution_count": 99,
   "id": "5da012af",
   "metadata": {},
   "outputs": [
    {
     "data": {
      "text/plain": [
       "82"
      ]
     },
     "execution_count": 99,
     "metadata": {},
     "output_type": "execute_result"
    }
   ],
   "source": [
    "len(name9)"
   ]
  },
  {
   "cell_type": "code",
   "execution_count": 100,
   "id": "ef98e4a6",
   "metadata": {},
   "outputs": [],
   "source": [
    "for i in range(1,10):\n",
    "    url = \"https://www.practo.com/bangalore/urologist?page=\"+str(i)\n",
    "    r= requests.get(url)\n",
    "    soup = BeautifulSoup(r.text, \"lxml\")\n",
    "    box= soup.find(\"div\", class_=\"pure-u-17-24 c-listing__left\")\n",
    "    ye_= box.find_all(\"div\",{'class' : \"uv2-spacer--xs-top\",'data-qa-id':\"doctor_experience\"})\n",
    "    for i in ye_:\n",
    "        ye__=i.text\n",
    "        year_of_experience9.append(ye__)"
   ]
  },
  {
   "cell_type": "code",
   "execution_count": 101,
   "id": "17d98541",
   "metadata": {},
   "outputs": [
    {
     "data": {
      "text/plain": [
       "82"
      ]
     },
     "execution_count": 101,
     "metadata": {},
     "output_type": "execute_result"
    }
   ],
   "source": [
    "len(year_of_experience9)"
   ]
  },
  {
   "cell_type": "code",
   "execution_count": 102,
   "id": "e6f2f524",
   "metadata": {},
   "outputs": [],
   "source": [
    "for i in range(1,10):\n",
    "    url = \"https://www.practo.com/bangalore/urologist?page=\"+str(i)\n",
    "    r= requests.get(url)\n",
    "    soup = BeautifulSoup(r.text, \"lxml\")\n",
    "    box= soup.find(\"div\", class_=\"pure-u-17-24 c-listing__left\")\n",
    "    loc_= box.find_all(\"div\",class_ = \"u-bold u-d-inlineblock u-valign--middle\")\n",
    "    for i in loc_:\n",
    "        loc__=i.text\n",
    "        location9.append(loc__)"
   ]
  },
  {
   "cell_type": "code",
   "execution_count": 103,
   "id": "70bfbade",
   "metadata": {},
   "outputs": [
    {
     "data": {
      "text/plain": [
       "82"
      ]
     },
     "execution_count": 103,
     "metadata": {},
     "output_type": "execute_result"
    }
   ],
   "source": [
    "len(location9)"
   ]
  },
  {
   "cell_type": "code",
   "execution_count": 104,
   "id": "08fe30bc",
   "metadata": {},
   "outputs": [],
   "source": [
    "for i in range(1,10):\n",
    "    url = \"https://www.practo.com/bangalore/urologist?page=\"+str(i)\n",
    "    r= requests.get(url)\n",
    "    soup = BeautifulSoup(r.text, \"lxml\")\n",
    "    box= soup.find(\"div\", class_=\"pure-u-17-24 c-listing__left\")\n",
    "    fee_= box.find_all(\"span\",{'data-qa-id' : \"consultation_fee\"})\n",
    "    for i in fee_:\n",
    "        fee__=i.text\n",
    "        consult_fee9.append(fee__)"
   ]
  },
  {
   "cell_type": "code",
   "execution_count": 105,
   "id": "ec5ea87a",
   "metadata": {},
   "outputs": [
    {
     "data": {
      "text/plain": [
       "82"
      ]
     },
     "execution_count": 105,
     "metadata": {},
     "output_type": "execute_result"
    }
   ],
   "source": [
    "len(consult_fee9)"
   ]
  },
  {
   "cell_type": "code",
   "execution_count": 106,
   "id": "ffabd364",
   "metadata": {},
   "outputs": [],
   "source": [
    "df9= pd.DataFrame({\"Name\":name9,\"Years of experience\":year_of_experience9,\n",
    "                  \"Location\":location9,\"Consultation fee\":consult_fee9})"
   ]
  },
  {
   "cell_type": "code",
   "execution_count": 107,
   "id": "1c4aee5c",
   "metadata": {},
   "outputs": [],
   "source": [
    "df9.to_csv(\"Downloads/BANGALOREUROLOGIST.csv\")"
   ]
  },
  {
   "cell_type": "code",
   "execution_count": 108,
   "id": "d561c77e",
   "metadata": {},
   "outputs": [],
   "source": [
    "name10=[]\n",
    "speciality_of_doctor10=[]\n",
    "year_of_experience10=[]\n",
    "location10=[]\n",
    "city10=[]\n",
    "consult_fee10=[]"
   ]
  },
  {
   "cell_type": "code",
   "execution_count": 109,
   "id": "05c185f3",
   "metadata": {},
   "outputs": [],
   "source": [
    "for i in range(1,8):\n",
    "    url = \"https://www.practo.com/bangalore/neurologist?page=\"+str(i)\n",
    "    r= requests.get(url)\n",
    "    soup = BeautifulSoup(r.text, \"lxml\")\n",
    "    box= soup.find(\"div\", class_=\"pure-u-17-24 c-listing__left\")\n",
    "    name_= box.find_all(\"h2\",class_ = \"doctor-name\")\n",
    "    for i in name_:\n",
    "        name__=i.text\n",
    "        name10.append(name__)"
   ]
  },
  {
   "cell_type": "code",
   "execution_count": 110,
   "id": "75bbf2af",
   "metadata": {},
   "outputs": [
    {
     "data": {
      "text/plain": [
       "62"
      ]
     },
     "execution_count": 110,
     "metadata": {},
     "output_type": "execute_result"
    }
   ],
   "source": [
    "len(name10)"
   ]
  },
  {
   "cell_type": "code",
   "execution_count": 111,
   "id": "8272cbc4",
   "metadata": {},
   "outputs": [],
   "source": [
    "for i in range(1,8):\n",
    "    url = \"https://www.practo.com/bangalore/neurologist?page=\"+str(i)\n",
    "    r= requests.get(url)\n",
    "    soup = BeautifulSoup(r.text, \"lxml\")\n",
    "    box= soup.find(\"div\", class_=\"pure-u-17-24 c-listing__left\")\n",
    "    ye_= box.find_all(\"div\",{'class' : \"uv2-spacer--xs-top\",'data-qa-id':\"doctor_experience\"})\n",
    "    for i in ye_:\n",
    "        ye__=i.text\n",
    "        year_of_experience10.append(ye__)"
   ]
  },
  {
   "cell_type": "code",
   "execution_count": 112,
   "id": "f93b0c90",
   "metadata": {},
   "outputs": [
    {
     "data": {
      "text/plain": [
       "62"
      ]
     },
     "execution_count": 112,
     "metadata": {},
     "output_type": "execute_result"
    }
   ],
   "source": [
    "len(year_of_experience10)"
   ]
  },
  {
   "cell_type": "code",
   "execution_count": 113,
   "id": "8e09ee07",
   "metadata": {},
   "outputs": [],
   "source": [
    "for i in range(1,8):\n",
    "    url = \"https://www.practo.com/bangalore/neurologist?page=\"+str(i)\n",
    "    r= requests.get(url)\n",
    "    soup = BeautifulSoup(r.text, \"lxml\")\n",
    "    box= soup.find(\"div\", class_=\"pure-u-17-24 c-listing__left\")\n",
    "    loc_= box.find_all(\"div\",class_ = \"u-bold u-d-inlineblock u-valign--middle\")\n",
    "    for i in loc_:\n",
    "        loc__=i.text\n",
    "        location10.append(loc__)"
   ]
  },
  {
   "cell_type": "code",
   "execution_count": 114,
   "id": "6da99363",
   "metadata": {},
   "outputs": [
    {
     "data": {
      "text/plain": [
       "62"
      ]
     },
     "execution_count": 114,
     "metadata": {},
     "output_type": "execute_result"
    }
   ],
   "source": [
    "len(location10)"
   ]
  },
  {
   "cell_type": "code",
   "execution_count": 115,
   "id": "09edef9b",
   "metadata": {},
   "outputs": [],
   "source": [
    "for i in range(1,8):\n",
    "    url = \"https://www.practo.com/bangalore/neurologist?page=\"+str(i)\n",
    "    r= requests.get(url)\n",
    "    soup = BeautifulSoup(r.text, \"lxml\")\n",
    "    box= soup.find(\"div\", class_=\"pure-u-17-24 c-listing__left\")\n",
    "    fee_= box.find_all(\"span\",{'data-qa-id' : \"consultation_fee\"})\n",
    "    for i in fee_:\n",
    "        fee__=i.text\n",
    "        consult_fee10.append(fee__)"
   ]
  },
  {
   "cell_type": "code",
   "execution_count": 116,
   "id": "db12de2c",
   "metadata": {},
   "outputs": [
    {
     "data": {
      "text/plain": [
       "62"
      ]
     },
     "execution_count": 116,
     "metadata": {},
     "output_type": "execute_result"
    }
   ],
   "source": [
    "len(consult_fee10)"
   ]
  },
  {
   "cell_type": "code",
   "execution_count": 117,
   "id": "d81144af",
   "metadata": {},
   "outputs": [],
   "source": [
    "df10= pd.DataFrame({\"Name\":name10,\"Years of experience\":year_of_experience10,\n",
    "                  \"Location\":location10,\"Consultation fee\":consult_fee10})"
   ]
  },
  {
   "cell_type": "code",
   "execution_count": 118,
   "id": "4c381240",
   "metadata": {},
   "outputs": [],
   "source": [
    "df10.to_csv(\"Downloads/BANGALORENEUROLOGIST.csv\")"
   ]
  },
  {
   "cell_type": "code",
   "execution_count": null,
   "id": "a3f42a69",
   "metadata": {},
   "outputs": [],
   "source": []
  }
 ],
 "metadata": {
  "kernelspec": {
   "display_name": "Python 3 (ipykernel)",
   "language": "python",
   "name": "python3"
  },
  "language_info": {
   "codemirror_mode": {
    "name": "ipython",
    "version": 3
   },
   "file_extension": ".py",
   "mimetype": "text/x-python",
   "name": "python",
   "nbconvert_exporter": "python",
   "pygments_lexer": "ipython3",
   "version": "3.9.13"
  }
 },
 "nbformat": 4,
 "nbformat_minor": 5
}
