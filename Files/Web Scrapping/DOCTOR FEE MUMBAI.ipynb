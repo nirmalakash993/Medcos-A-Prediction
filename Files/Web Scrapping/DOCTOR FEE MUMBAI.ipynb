{
 "cells": [
  {
   "cell_type": "code",
   "execution_count": 1,
   "id": "c945b8a1",
   "metadata": {},
   "outputs": [],
   "source": [
    "import pandas as pd\n",
    "import requests \n",
    "from bs4 import BeautifulSoup"
   ]
  },
  {
   "cell_type": "code",
   "execution_count": 2,
   "id": "3f8e07e1",
   "metadata": {},
   "outputs": [],
   "source": [
    "name1=[]\n",
    "speciality_of_doctor1=[]\n",
    "year_of_experience1=[]\n",
    "location1=[]\n",
    "city1=[]\n",
    "consult_fee1=[]"
   ]
  },
  {
   "cell_type": "code",
   "execution_count": 3,
   "id": "6b7a7fdc",
   "metadata": {},
   "outputs": [],
   "source": [
    "for i in range(1,5):\n",
    "    url = \"https://www.practo.com/mumbai/cardiologist?page=\"+str(i)\n",
    "    r= requests.get(url)\n",
    "    soup = BeautifulSoup(r.text, \"lxml\")\n",
    "    box= soup.find(\"div\", class_=\"pure-u-17-24 c-listing__left\")\n",
    "    name_= box.find_all(\"h2\",class_ = \"doctor-name\")\n",
    "    for i in name_:\n",
    "        name__=i.text\n",
    "        name1.append(name__)"
   ]
  },
  {
   "cell_type": "code",
   "execution_count": 4,
   "id": "68705581",
   "metadata": {},
   "outputs": [
    {
     "data": {
      "text/plain": [
       "38"
      ]
     },
     "execution_count": 4,
     "metadata": {},
     "output_type": "execute_result"
    }
   ],
   "source": [
    "len(name1)"
   ]
  },
  {
   "cell_type": "code",
   "execution_count": 5,
   "id": "b61e58c5",
   "metadata": {},
   "outputs": [],
   "source": [
    "for i in range(1,5):\n",
    "    url = \"https://www.practo.com/mumbai/cardiologist?page=\"+str(i)\n",
    "    r= requests.get(url)\n",
    "    soup = BeautifulSoup(r.text, \"lxml\")\n",
    "    box= soup.find(\"div\", class_=\"pure-u-17-24 c-listing__left\")\n",
    "    ye_= box.find_all(\"div\",{'class' : \"uv2-spacer--xs-top\",'data-qa-id':\"doctor_experience\"})\n",
    "    for i in ye_:\n",
    "        ye__=i.text\n",
    "        year_of_experience1.append(ye__)"
   ]
  },
  {
   "cell_type": "code",
   "execution_count": 6,
   "id": "42d925ef",
   "metadata": {},
   "outputs": [
    {
     "data": {
      "text/plain": [
       "38"
      ]
     },
     "execution_count": 6,
     "metadata": {},
     "output_type": "execute_result"
    }
   ],
   "source": [
    "len(year_of_experience1)"
   ]
  },
  {
   "cell_type": "code",
   "execution_count": 8,
   "id": "16f02b85",
   "metadata": {},
   "outputs": [],
   "source": [
    "for i in range(1,5):\n",
    "    url = \"https://www.practo.com/mumbai/cardiologist?page=\"+str(i)\n",
    "    r= requests.get(url)\n",
    "    soup = BeautifulSoup(r.text, \"lxml\")\n",
    "    box= soup.find(\"div\", class_=\"pure-u-17-24 c-listing__left\")\n",
    "    loc_= box.find_all(\"div\",class_ = \"u-bold u-d-inlineblock u-valign--middle\")\n",
    "    for i in loc_:\n",
    "        loc__=i.text\n",
    "        location1.append(loc__)"
   ]
  },
  {
   "cell_type": "code",
   "execution_count": 9,
   "id": "d4d3faca",
   "metadata": {},
   "outputs": [
    {
     "data": {
      "text/plain": [
       "38"
      ]
     },
     "execution_count": 9,
     "metadata": {},
     "output_type": "execute_result"
    }
   ],
   "source": [
    "len(location1)"
   ]
  },
  {
   "cell_type": "code",
   "execution_count": 10,
   "id": "e89e8de4",
   "metadata": {},
   "outputs": [],
   "source": [
    "for i in range(1,5):\n",
    "    url = \"https://www.practo.com/mumbai/cardiologist?page=\"+str(i)\n",
    "    r= requests.get(url)\n",
    "    soup = BeautifulSoup(r.text, \"lxml\")\n",
    "    box= soup.find(\"div\", class_=\"pure-u-17-24 c-listing__left\")\n",
    "    fee_= box.find_all(\"span\",{'data-qa-id' : \"consultation_fee\"})\n",
    "    for i in fee_:\n",
    "        fee__=i.text\n",
    "        consult_fee1.append(fee__)"
   ]
  },
  {
   "cell_type": "code",
   "execution_count": 11,
   "id": "a49196e7",
   "metadata": {},
   "outputs": [
    {
     "data": {
      "text/plain": [
       "38"
      ]
     },
     "execution_count": 11,
     "metadata": {},
     "output_type": "execute_result"
    }
   ],
   "source": [
    "len(consult_fee1)"
   ]
  },
  {
   "cell_type": "code",
   "execution_count": 12,
   "id": "a9e4938a",
   "metadata": {},
   "outputs": [],
   "source": [
    "df1= pd.DataFrame({\"Name\":name1,\"Years of experience\":year_of_experience1,\n",
    "                  \"Location\":location1,\"Consultation Fee\":consult_fee1})"
   ]
  },
  {
   "cell_type": "code",
   "execution_count": 13,
   "id": "15f8b9a5",
   "metadata": {},
   "outputs": [],
   "source": [
    "df1.to_csv(\"Downloads/MUMBAICARDIOLOGIST.csv\")"
   ]
  },
  {
   "cell_type": "code",
   "execution_count": 3,
   "id": "e5da4acc",
   "metadata": {},
   "outputs": [],
   "source": [
    "name2=[]\n",
    "speciality_of_doctor2=[]\n",
    "year_of_experience2=[]\n",
    "location2=[]\n",
    "city2=[]\n",
    "consult_fee2=[]"
   ]
  },
  {
   "cell_type": "code",
   "execution_count": 4,
   "id": "8c68a601",
   "metadata": {},
   "outputs": [],
   "source": [
    "for i in range(1,46):\n",
    "    url = \"https://www.practo.com/mumbai/dentist?page=\"+str(i)\n",
    "    r= requests.get(url)\n",
    "    soup = BeautifulSoup(r.text, \"lxml\")\n",
    "    box= soup.find(\"div\", class_=\"pure-u-17-24 c-listing__left\")\n",
    "    name_= box.find_all(\"h2\",class_ = \"doctor-name\")\n",
    "    for i in name_:\n",
    "        name__=i.text\n",
    "        name2.append(name__)"
   ]
  },
  {
   "cell_type": "code",
   "execution_count": 5,
   "id": "8a1bcf48",
   "metadata": {},
   "outputs": [
    {
     "data": {
      "text/plain": [
       "446"
      ]
     },
     "execution_count": 5,
     "metadata": {},
     "output_type": "execute_result"
    }
   ],
   "source": [
    "len(name2)"
   ]
  },
  {
   "cell_type": "code",
   "execution_count": 6,
   "id": "91967b4e",
   "metadata": {},
   "outputs": [],
   "source": [
    "for i in range(1,46):\n",
    "    url = \"https://www.practo.com/mumbai/dentist?page=\"+str(i)\n",
    "    r= requests.get(url)\n",
    "    soup = BeautifulSoup(r.text, \"lxml\")\n",
    "    box= soup.find(\"div\", class_=\"pure-u-17-24 c-listing__left\")\n",
    "    ye_= box.find_all(\"div\",{'class' : \"uv2-spacer--xs-top\",'data-qa-id':\"doctor_experience\"})\n",
    "    for i in ye_:\n",
    "        ye__=i.text\n",
    "        year_of_experience2.append(ye__)"
   ]
  },
  {
   "cell_type": "code",
   "execution_count": 7,
   "id": "ace906d2",
   "metadata": {},
   "outputs": [
    {
     "data": {
      "text/plain": [
       "446"
      ]
     },
     "execution_count": 7,
     "metadata": {},
     "output_type": "execute_result"
    }
   ],
   "source": [
    "len(year_of_experience2)"
   ]
  },
  {
   "cell_type": "code",
   "execution_count": 8,
   "id": "c273d015",
   "metadata": {},
   "outputs": [],
   "source": [
    "for i in range(1,46):\n",
    "    url = \"https://www.practo.com/mumbai/dentist?page=\"+str(i)\n",
    "    r= requests.get(url)\n",
    "    soup = BeautifulSoup(r.text, \"lxml\")\n",
    "    box= soup.find(\"div\", class_=\"pure-u-17-24 c-listing__left\")\n",
    "    loc_= box.find_all(\"div\",class_ = \"u-bold u-d-inlineblock u-valign--middle\")\n",
    "    for i in loc_:\n",
    "        loc__=i.text\n",
    "        location2.append(loc__)"
   ]
  },
  {
   "cell_type": "code",
   "execution_count": 9,
   "id": "71cee69e",
   "metadata": {},
   "outputs": [
    {
     "data": {
      "text/plain": [
       "446"
      ]
     },
     "execution_count": 9,
     "metadata": {},
     "output_type": "execute_result"
    }
   ],
   "source": [
    "len(location2)"
   ]
  },
  {
   "cell_type": "code",
   "execution_count": 14,
   "id": "e125b78b",
   "metadata": {},
   "outputs": [],
   "source": [
    "df2= pd.DataFrame({\"Name\":name2,\"Years of experience\":year_of_experience2,\n",
    "                  \"Location\":location2})"
   ]
  },
  {
   "cell_type": "code",
   "execution_count": 15,
   "id": "273175ca",
   "metadata": {},
   "outputs": [],
   "source": [
    "df2.to_csv(\"Downloads/MUMBAIDENTIST.csv\")"
   ]
  },
  {
   "cell_type": "code",
   "execution_count": 16,
   "id": "b245667b",
   "metadata": {},
   "outputs": [],
   "source": [
    "name3=[]\n",
    "speciality_of_doctor3=[]\n",
    "year_of_experience3=[]\n",
    "location3=[]\n",
    "city3=[]\n",
    "consult_fee3=[]"
   ]
  },
  {
   "cell_type": "code",
   "execution_count": 17,
   "id": "b4b9f817",
   "metadata": {},
   "outputs": [],
   "source": [
    "for i in range(1,20):\n",
    "    url = \"https://www.practo.com/mumbai/gynecologist?page=\"+str(i)\n",
    "    r= requests.get(url)\n",
    "    soup = BeautifulSoup(r.text, \"lxml\")\n",
    "    box= soup.find(\"div\", class_=\"pure-u-17-24 c-listing__left\")\n",
    "    name_= box.find_all(\"h2\",class_ = \"doctor-name\")\n",
    "    for i in name_:\n",
    "        name__=i.text\n",
    "        name3.append(name__)"
   ]
  },
  {
   "cell_type": "code",
   "execution_count": 18,
   "id": "fffd1bfe",
   "metadata": {},
   "outputs": [
    {
     "data": {
      "text/plain": [
       "189"
      ]
     },
     "execution_count": 18,
     "metadata": {},
     "output_type": "execute_result"
    }
   ],
   "source": [
    "len(name3)"
   ]
  },
  {
   "cell_type": "code",
   "execution_count": 19,
   "id": "f6dea3d5",
   "metadata": {},
   "outputs": [],
   "source": [
    "for i in range(1,20):\n",
    "    url = \"https://www.practo.com/mumbai/gynecologist?page=\"+str(i)\n",
    "    r= requests.get(url)\n",
    "    soup = BeautifulSoup(r.text, \"lxml\")\n",
    "    box= soup.find(\"div\", class_=\"pure-u-17-24 c-listing__left\")\n",
    "    ye_= box.find_all(\"div\",{'class' : \"uv2-spacer--xs-top\",'data-qa-id':\"doctor_experience\"})\n",
    "    for i in ye_:\n",
    "        ye__=i.text\n",
    "        year_of_experience3.append(ye__)"
   ]
  },
  {
   "cell_type": "code",
   "execution_count": 20,
   "id": "716559ef",
   "metadata": {},
   "outputs": [
    {
     "data": {
      "text/plain": [
       "189"
      ]
     },
     "execution_count": 20,
     "metadata": {},
     "output_type": "execute_result"
    }
   ],
   "source": [
    "len(year_of_experience3)"
   ]
  },
  {
   "cell_type": "code",
   "execution_count": 21,
   "id": "aaaca935",
   "metadata": {},
   "outputs": [],
   "source": [
    "for i in range(1,20):\n",
    "    url = \"https://www.practo.com/mumbai/gynecologist?page=\"+str(i)\n",
    "    r= requests.get(url)\n",
    "    soup = BeautifulSoup(r.text, \"lxml\")\n",
    "    box= soup.find(\"div\", class_=\"pure-u-17-24 c-listing__left\")\n",
    "    loc_= box.find_all(\"div\",class_ = \"u-bold u-d-inlineblock u-valign--middle\")\n",
    "    for i in loc_:\n",
    "        loc__=i.text\n",
    "        location3.append(loc__)"
   ]
  },
  {
   "cell_type": "code",
   "execution_count": 22,
   "id": "a2a010f5",
   "metadata": {},
   "outputs": [
    {
     "data": {
      "text/plain": [
       "189"
      ]
     },
     "execution_count": 22,
     "metadata": {},
     "output_type": "execute_result"
    }
   ],
   "source": [
    "len(location3)"
   ]
  },
  {
   "cell_type": "code",
   "execution_count": 23,
   "id": "703e0bdf",
   "metadata": {},
   "outputs": [],
   "source": [
    "for i in range(1,20):\n",
    "    url = \"https://www.practo.com/mumbai/gynecologist?page=\"+str(i)\n",
    "    r= requests.get(url)\n",
    "    soup = BeautifulSoup(r.text, \"lxml\")\n",
    "    box= soup.find(\"div\", class_=\"pure-u-17-24 c-listing__left\")\n",
    "    fee_= box.find_all(\"span\",{'data-qa-id' : \"consultation_fee\"})\n",
    "    for i in fee_:\n",
    "        fee__=i.text\n",
    "        consult_fee3.append(fee__)"
   ]
  },
  {
   "cell_type": "code",
   "execution_count": 24,
   "id": "206e8d3f",
   "metadata": {},
   "outputs": [
    {
     "data": {
      "text/plain": [
       "189"
      ]
     },
     "execution_count": 24,
     "metadata": {},
     "output_type": "execute_result"
    }
   ],
   "source": [
    "len(consult_fee3)"
   ]
  },
  {
   "cell_type": "code",
   "execution_count": 25,
   "id": "acff7870",
   "metadata": {},
   "outputs": [],
   "source": [
    "df3= pd.DataFrame({\"Name\":name3,\"Years of experience\":year_of_experience3,\n",
    "                  \"Location\":location3,\"Consultation fee\":consult_fee3})"
   ]
  },
  {
   "cell_type": "code",
   "execution_count": 26,
   "id": "2df3a51b",
   "metadata": {},
   "outputs": [],
   "source": [
    "df3.to_csv(\"Downloads/MUMBAIGYNECOLOGIST.csv\")"
   ]
  },
  {
   "cell_type": "code",
   "execution_count": 27,
   "id": "e32da0ca",
   "metadata": {},
   "outputs": [],
   "source": [
    "name4=[]\n",
    "speciality_of_doctor4=[]\n",
    "year_of_experience4=[]\n",
    "location4=[]\n",
    "city4=[]\n",
    "consult_fee4=[]"
   ]
  },
  {
   "cell_type": "code",
   "execution_count": 28,
   "id": "9dcdf5f6",
   "metadata": {},
   "outputs": [],
   "source": [
    "for i in range(1,8):\n",
    "    url = \"https://www.practo.com/mumbai/pediatrician?page=\"+str(i)\n",
    "    r= requests.get(url)\n",
    "    soup = BeautifulSoup(r.text, \"lxml\")\n",
    "    box= soup.find(\"div\", class_=\"pure-u-17-24 c-listing__left\")\n",
    "    name_= box.find_all(\"h2\",class_ = \"doctor-name\")\n",
    "    for i in name_:\n",
    "        name__=i.text\n",
    "        name4.append(name__)"
   ]
  },
  {
   "cell_type": "code",
   "execution_count": 29,
   "id": "d8add0dd",
   "metadata": {},
   "outputs": [
    {
     "data": {
      "text/plain": [
       "69"
      ]
     },
     "execution_count": 29,
     "metadata": {},
     "output_type": "execute_result"
    }
   ],
   "source": [
    "len(name4)"
   ]
  },
  {
   "cell_type": "code",
   "execution_count": 30,
   "id": "eb33c778",
   "metadata": {},
   "outputs": [],
   "source": [
    "for i in range(1,8):\n",
    "    url = \"https://www.practo.com/mumbai/pediatrician?page=\"+str(i)\n",
    "    r= requests.get(url)\n",
    "    soup = BeautifulSoup(r.text, \"lxml\")\n",
    "    box= soup.find(\"div\", class_=\"pure-u-17-24 c-listing__left\")\n",
    "    ye_= box.find_all(\"div\",{'class' : \"uv2-spacer--xs-top\",'data-qa-id':\"doctor_experience\"})\n",
    "    for i in ye_:\n",
    "        ye__=i.text\n",
    "        year_of_experience4.append(ye__)"
   ]
  },
  {
   "cell_type": "code",
   "execution_count": 31,
   "id": "8a3914ce",
   "metadata": {},
   "outputs": [
    {
     "data": {
      "text/plain": [
       "69"
      ]
     },
     "execution_count": 31,
     "metadata": {},
     "output_type": "execute_result"
    }
   ],
   "source": [
    "len(year_of_experience4)"
   ]
  },
  {
   "cell_type": "code",
   "execution_count": 32,
   "id": "cd348c44",
   "metadata": {},
   "outputs": [],
   "source": [
    "for i in range(1,8):\n",
    "    url = \"https://www.practo.com/mumbai/pediatrician?page=\"+str(i)\n",
    "    r= requests.get(url)\n",
    "    soup = BeautifulSoup(r.text, \"lxml\")\n",
    "    box= soup.find(\"div\", class_=\"pure-u-17-24 c-listing__left\")\n",
    "    loc_= box.find_all(\"div\",class_ = \"u-bold u-d-inlineblock u-valign--middle\")\n",
    "    for i in loc_:\n",
    "        loc__=i.text\n",
    "        location4.append(loc__)"
   ]
  },
  {
   "cell_type": "code",
   "execution_count": 33,
   "id": "8c264839",
   "metadata": {},
   "outputs": [
    {
     "data": {
      "text/plain": [
       "69"
      ]
     },
     "execution_count": 33,
     "metadata": {},
     "output_type": "execute_result"
    }
   ],
   "source": [
    "len(location4)"
   ]
  },
  {
   "cell_type": "code",
   "execution_count": 34,
   "id": "2a52138d",
   "metadata": {},
   "outputs": [],
   "source": [
    "for i in range(1,8):\n",
    "    url = \"https://www.practo.com/mumbai/pediatrician?page=\"+str(i)\n",
    "    r= requests.get(url)\n",
    "    soup = BeautifulSoup(r.text, \"lxml\")\n",
    "    box= soup.find(\"div\", class_=\"pure-u-17-24 c-listing__left\")\n",
    "    fee_= box.find_all(\"span\",{'data-qa-id' : \"consultation_fee\"})\n",
    "    for i in fee_:\n",
    "        fee__=i.text\n",
    "        consult_fee4.append(fee__)"
   ]
  },
  {
   "cell_type": "code",
   "execution_count": 35,
   "id": "8e89c8ef",
   "metadata": {},
   "outputs": [
    {
     "data": {
      "text/plain": [
       "69"
      ]
     },
     "execution_count": 35,
     "metadata": {},
     "output_type": "execute_result"
    }
   ],
   "source": [
    "len(consult_fee4)"
   ]
  },
  {
   "cell_type": "code",
   "execution_count": 36,
   "id": "dbebfd10",
   "metadata": {},
   "outputs": [],
   "source": [
    "df4= pd.DataFrame({\"Name\":name4,\"Years of experience\":year_of_experience4,\n",
    "                  \"Location\":location4,\"Consultation fee\":consult_fee4})"
   ]
  },
  {
   "cell_type": "code",
   "execution_count": 37,
   "id": "90613718",
   "metadata": {},
   "outputs": [],
   "source": [
    "df4.to_csv(\"Downloads/MUMBAIPEDIATRICIAN.csv\")"
   ]
  },
  {
   "cell_type": "code",
   "execution_count": 38,
   "id": "2ffa5cb1",
   "metadata": {},
   "outputs": [],
   "source": [
    "name5=[]\n",
    "speciality_of_doctor5=[]\n",
    "year_of_experience5=[]\n",
    "location5=[]\n",
    "city5=[]\n",
    "consult_fee5=[]"
   ]
  },
  {
   "cell_type": "code",
   "execution_count": 39,
   "id": "c39b8e26",
   "metadata": {},
   "outputs": [],
   "source": [
    "for i in range(1,11):\n",
    "    url = \"https://www.practo.com/mumbai/physiotherapist?page=\"+str(i)\n",
    "    r= requests.get(url)\n",
    "    soup = BeautifulSoup(r.text, \"lxml\")\n",
    "    box= soup.find(\"div\", class_=\"pure-u-17-24 c-listing__left\")\n",
    "    name_= box.find_all(\"h2\",class_ = \"doctor-name\")\n",
    "    for i in name_:\n",
    "        name__=i.text\n",
    "        name5.append(name__)"
   ]
  },
  {
   "cell_type": "code",
   "execution_count": 40,
   "id": "dbd5f621",
   "metadata": {},
   "outputs": [
    {
     "data": {
      "text/plain": [
       "98"
      ]
     },
     "execution_count": 40,
     "metadata": {},
     "output_type": "execute_result"
    }
   ],
   "source": [
    "len(name5)"
   ]
  },
  {
   "cell_type": "code",
   "execution_count": 43,
   "id": "7c135c04",
   "metadata": {},
   "outputs": [],
   "source": [
    "for i in range(1,11):\n",
    "    url = \"https://www.practo.com/mumbai/physiotherapist?page=\"+str(i)\n",
    "    r= requests.get(url)\n",
    "    soup = BeautifulSoup(r.text, \"lxml\")\n",
    "    box= soup.find(\"div\", class_=\"pure-u-17-24 c-listing__left\")\n",
    "    ye_= box.find_all(\"div\",{'class' : \"uv2-spacer--xs-top\",'data-qa-id':\"doctor_experience\"})\n",
    "    for i in ye_:\n",
    "        ye__=i.text\n",
    "        year_of_experience5.append(ye__)"
   ]
  },
  {
   "cell_type": "code",
   "execution_count": 44,
   "id": "135c7a37",
   "metadata": {},
   "outputs": [
    {
     "data": {
      "text/plain": [
       "98"
      ]
     },
     "execution_count": 44,
     "metadata": {},
     "output_type": "execute_result"
    }
   ],
   "source": [
    "len(year_of_experience5)"
   ]
  },
  {
   "cell_type": "code",
   "execution_count": 45,
   "id": "65c4e22c",
   "metadata": {},
   "outputs": [],
   "source": [
    "for i in range(1,11):\n",
    "    url = \"https://www.practo.com/mumbai/physiotherapist?page=\"+str(i)\n",
    "    r= requests.get(url)\n",
    "    soup = BeautifulSoup(r.text, \"lxml\")\n",
    "    box= soup.find(\"div\", class_=\"pure-u-17-24 c-listing__left\")\n",
    "    loc_= box.find_all(\"div\",class_ = \"u-bold u-d-inlineblock u-valign--middle\")\n",
    "    for i in loc_:\n",
    "        loc__=i.text\n",
    "        location5.append(loc__)"
   ]
  },
  {
   "cell_type": "code",
   "execution_count": 46,
   "id": "5cdef892",
   "metadata": {},
   "outputs": [
    {
     "data": {
      "text/plain": [
       "98"
      ]
     },
     "execution_count": 46,
     "metadata": {},
     "output_type": "execute_result"
    }
   ],
   "source": [
    "len(location5)"
   ]
  },
  {
   "cell_type": "code",
   "execution_count": 47,
   "id": "1a6ce7af",
   "metadata": {},
   "outputs": [],
   "source": [
    "for i in range(1,11):\n",
    "    url = \"https://www.practo.com/mumbai/physiotherapist?page=\"+str(i)\n",
    "    r= requests.get(url)\n",
    "    soup = BeautifulSoup(r.text, \"lxml\")\n",
    "    box= soup.find(\"div\", class_=\"pure-u-17-24 c-listing__left\")\n",
    "    fee_= box.find_all(\"span\",{'data-qa-id' : \"consultation_fee\"})\n",
    "    for i in fee_:\n",
    "        fee__=i.text\n",
    "        consult_fee5.append(fee__)"
   ]
  },
  {
   "cell_type": "code",
   "execution_count": 48,
   "id": "ad9a4459",
   "metadata": {},
   "outputs": [
    {
     "data": {
      "text/plain": [
       "98"
      ]
     },
     "execution_count": 48,
     "metadata": {},
     "output_type": "execute_result"
    }
   ],
   "source": [
    "len(consult_fee5)"
   ]
  },
  {
   "cell_type": "code",
   "execution_count": 49,
   "id": "f14a1397",
   "metadata": {},
   "outputs": [],
   "source": [
    "df5= pd.DataFrame({\"Name\":name5,\"Years of experience\":year_of_experience5,\n",
    "                  \"Location\":location5,\"Consultation fee\":consult_fee5})"
   ]
  },
  {
   "cell_type": "code",
   "execution_count": 50,
   "id": "2e16eb45",
   "metadata": {},
   "outputs": [],
   "source": [
    "df5.to_csv(\"Downloads/MUMBAIPHYSIOTHERIPIST.csv\")"
   ]
  },
  {
   "cell_type": "code",
   "execution_count": 51,
   "id": "1cf7c968",
   "metadata": {},
   "outputs": [],
   "source": [
    "name6=[]\n",
    "speciality_of_doctor6=[]\n",
    "year_of_experience6=[]\n",
    "location6=[]\n",
    "city6=[]\n",
    "consult_fee6=[]"
   ]
  },
  {
   "cell_type": "code",
   "execution_count": 52,
   "id": "f61ba1a6",
   "metadata": {},
   "outputs": [],
   "source": [
    "for i in range(1,11):\n",
    "    url = \"https://www.practo.com/mumbai/dermatologist?page=\"+str(i)\n",
    "    r= requests.get(url)\n",
    "    soup = BeautifulSoup(r.text, \"lxml\")\n",
    "    box= soup.find(\"div\", class_=\"pure-u-17-24 c-listing__left\")\n",
    "    name_= box.find_all(\"h2\",class_ = \"doctor-name\")\n",
    "    for i in name_:\n",
    "        name__=i.text\n",
    "        name6.append(name__)"
   ]
  },
  {
   "cell_type": "code",
   "execution_count": 53,
   "id": "ab9fcba7",
   "metadata": {},
   "outputs": [
    {
     "data": {
      "text/plain": [
       "97"
      ]
     },
     "execution_count": 53,
     "metadata": {},
     "output_type": "execute_result"
    }
   ],
   "source": [
    "len(name6)"
   ]
  },
  {
   "cell_type": "code",
   "execution_count": 54,
   "id": "18ae17ee",
   "metadata": {},
   "outputs": [],
   "source": [
    "for i in range(1,11):\n",
    "    url = \"https://www.practo.com/mumbai/dermatologist?page=\"+str(i)\n",
    "    r= requests.get(url)\n",
    "    soup = BeautifulSoup(r.text, \"lxml\")\n",
    "    box= soup.find(\"div\", class_=\"pure-u-17-24 c-listing__left\")\n",
    "    ye_= box.find_all(\"div\",{'class' : \"uv2-spacer--xs-top\",'data-qa-id':\"doctor_experience\"})\n",
    "    for i in ye_:\n",
    "        ye__=i.text\n",
    "        year_of_experience6.append(ye__)"
   ]
  },
  {
   "cell_type": "code",
   "execution_count": 55,
   "id": "b84a4fc4",
   "metadata": {},
   "outputs": [
    {
     "data": {
      "text/plain": [
       "97"
      ]
     },
     "execution_count": 55,
     "metadata": {},
     "output_type": "execute_result"
    }
   ],
   "source": [
    "len(year_of_experience6)"
   ]
  },
  {
   "cell_type": "code",
   "execution_count": 56,
   "id": "db3e178f",
   "metadata": {},
   "outputs": [],
   "source": [
    "for i in range(1,11):\n",
    "    url = \"https://www.practo.com/mumbai/dermatologist?page=\"+str(i)\n",
    "    r= requests.get(url)\n",
    "    soup = BeautifulSoup(r.text, \"lxml\")\n",
    "    box= soup.find(\"div\", class_=\"pure-u-17-24 c-listing__left\")\n",
    "    loc_= box.find_all(\"div\",class_ = \"u-bold u-d-inlineblock u-valign--middle\")\n",
    "    for i in loc_:\n",
    "        loc__=i.text\n",
    "        location6.append(loc__)"
   ]
  },
  {
   "cell_type": "code",
   "execution_count": 57,
   "id": "0985e54f",
   "metadata": {},
   "outputs": [
    {
     "data": {
      "text/plain": [
       "97"
      ]
     },
     "execution_count": 57,
     "metadata": {},
     "output_type": "execute_result"
    }
   ],
   "source": [
    "len(location6)"
   ]
  },
  {
   "cell_type": "code",
   "execution_count": 59,
   "id": "eaa356a0",
   "metadata": {},
   "outputs": [],
   "source": [
    "for i in range(1,11):\n",
    "    url = \"https://www.practo.com/mumbai/dermatologist?page=\"+str(i)\n",
    "    r= requests.get(url)\n",
    "    soup = BeautifulSoup(r.text, \"lxml\")\n",
    "    box= soup.find(\"div\", class_=\"pure-u-17-24 c-listing__left\")\n",
    "    fee_= box.find_all(\"span\",{'data-qa-id' : \"consultation_fee\"})\n",
    "    for i in fee_:\n",
    "        fee__=i.text\n",
    "        consult_fee6.append(fee__)"
   ]
  },
  {
   "cell_type": "code",
   "execution_count": 60,
   "id": "9ee788e4",
   "metadata": {},
   "outputs": [
    {
     "data": {
      "text/plain": [
       "97"
      ]
     },
     "execution_count": 60,
     "metadata": {},
     "output_type": "execute_result"
    }
   ],
   "source": [
    "len(consult_fee6)"
   ]
  },
  {
   "cell_type": "code",
   "execution_count": 61,
   "id": "763bc8cf",
   "metadata": {},
   "outputs": [],
   "source": [
    "df6= pd.DataFrame({\"Name\":name6,\"Years of experience\":year_of_experience6,\n",
    "                  \"Location\":location6,\"Consultation fee\":consult_fee6})"
   ]
  },
  {
   "cell_type": "code",
   "execution_count": 62,
   "id": "f1f31bfb",
   "metadata": {},
   "outputs": [],
   "source": [
    "df6.to_csv(\"Downloads/MUMBAIDERMATOLOGIST.csv\")"
   ]
  },
  {
   "cell_type": "code",
   "execution_count": 63,
   "id": "ad301145",
   "metadata": {},
   "outputs": [],
   "source": [
    "name7=[]\n",
    "speciality_of_doctor7=[]\n",
    "year_of_experience7=[]\n",
    "location7=[]\n",
    "city7=[]\n",
    "consult_fee7=[]"
   ]
  },
  {
   "cell_type": "code",
   "execution_count": 64,
   "id": "c7882ddf",
   "metadata": {},
   "outputs": [],
   "source": [
    "for i in range(1,7):\n",
    "    url = \"https://www.practo.com/mumbai/dietitian-nutritionist?page=\"+str(i)\n",
    "    r= requests.get(url)\n",
    "    soup = BeautifulSoup(r.text, \"lxml\")\n",
    "    box= soup.find(\"div\", class_=\"pure-u-17-24 c-listing__left\")\n",
    "    name_= box.find_all(\"h2\",class_ = \"doctor-name\")\n",
    "    for i in name_:\n",
    "        name__=i.text\n",
    "        name7.append(name__)"
   ]
  },
  {
   "cell_type": "code",
   "execution_count": 65,
   "id": "6f1c9c9e",
   "metadata": {},
   "outputs": [
    {
     "data": {
      "text/plain": [
       "52"
      ]
     },
     "execution_count": 65,
     "metadata": {},
     "output_type": "execute_result"
    }
   ],
   "source": [
    "len(name7)"
   ]
  },
  {
   "cell_type": "code",
   "execution_count": 66,
   "id": "ee86d9a8",
   "metadata": {},
   "outputs": [],
   "source": [
    "for i in range(1,7):\n",
    "    url = \"https://www.practo.com/mumbai/dietitian-nutritionist?page=\"+str(i)\n",
    "    r= requests.get(url)\n",
    "    soup = BeautifulSoup(r.text, \"lxml\")\n",
    "    box= soup.find(\"div\", class_=\"pure-u-17-24 c-listing__left\")\n",
    "    ye_= box.find_all(\"div\",{'class' : \"uv2-spacer--xs-top\",'data-qa-id':\"doctor_experience\"})\n",
    "    for i in ye_:\n",
    "        ye__=i.text\n",
    "        year_of_experience7.append(ye__)"
   ]
  },
  {
   "cell_type": "code",
   "execution_count": 67,
   "id": "3aedae33",
   "metadata": {},
   "outputs": [
    {
     "data": {
      "text/plain": [
       "52"
      ]
     },
     "execution_count": 67,
     "metadata": {},
     "output_type": "execute_result"
    }
   ],
   "source": [
    "len(year_of_experience7)"
   ]
  },
  {
   "cell_type": "code",
   "execution_count": 68,
   "id": "0dee691b",
   "metadata": {},
   "outputs": [],
   "source": [
    "for i in range(1,7):\n",
    "    url = \"https://www.practo.com/mumbai/dietitian-nutritionist?page=\"+str(i)\n",
    "    r= requests.get(url)\n",
    "    soup = BeautifulSoup(r.text, \"lxml\")\n",
    "    box= soup.find(\"div\", class_=\"pure-u-17-24 c-listing__left\")\n",
    "    loc_= box.find_all(\"div\",class_ = \"u-bold u-d-inlineblock u-valign--middle\")\n",
    "    for i in loc_:\n",
    "        loc__=i.text\n",
    "        location7.append(loc__)"
   ]
  },
  {
   "cell_type": "code",
   "execution_count": 69,
   "id": "1d1a6c48",
   "metadata": {},
   "outputs": [
    {
     "data": {
      "text/plain": [
       "52"
      ]
     },
     "execution_count": 69,
     "metadata": {},
     "output_type": "execute_result"
    }
   ],
   "source": [
    "len(location7)"
   ]
  },
  {
   "cell_type": "code",
   "execution_count": 70,
   "id": "fbd164d6",
   "metadata": {},
   "outputs": [],
   "source": [
    "for i in range(1,7):\n",
    "    url = \"https://www.practo.com/mumbai/dietitian-nutritionist?page=\"+str(i)\n",
    "    r= requests.get(url)\n",
    "    soup = BeautifulSoup(r.text, \"lxml\")\n",
    "    box= soup.find(\"div\", class_=\"pure-u-17-24 c-listing__left\")\n",
    "    fee_= box.find_all(\"span\",{'data-qa-id' : \"consultation_fee\"})\n",
    "    for i in fee_:\n",
    "        fee__=i.text\n",
    "        consult_fee7.append(fee__)"
   ]
  },
  {
   "cell_type": "code",
   "execution_count": 71,
   "id": "021dcb5e",
   "metadata": {},
   "outputs": [
    {
     "data": {
      "text/plain": [
       "52"
      ]
     },
     "execution_count": 71,
     "metadata": {},
     "output_type": "execute_result"
    }
   ],
   "source": [
    "len(consult_fee7)"
   ]
  },
  {
   "cell_type": "code",
   "execution_count": 72,
   "id": "b3edc1d9",
   "metadata": {},
   "outputs": [],
   "source": [
    "df7= pd.DataFrame({\"Name\":name7,\"Years of experience\":year_of_experience7,\n",
    "                  \"Location\":location7,\"Consultation fee\":consult_fee7})"
   ]
  },
  {
   "cell_type": "code",
   "execution_count": 73,
   "id": "4d4a1bc7",
   "metadata": {},
   "outputs": [],
   "source": [
    "df7.to_csv(\"Downloads/MUMBAIDIETICIAN.csv\")"
   ]
  },
  {
   "cell_type": "code",
   "execution_count": 74,
   "id": "aa274ddd",
   "metadata": {},
   "outputs": [],
   "source": [
    "name8=[]\n",
    "speciality_of_doctor8=[]\n",
    "year_of_experience8=[]\n",
    "location8=[]\n",
    "city8=[]\n",
    "consult_fee8=[]"
   ]
  },
  {
   "cell_type": "code",
   "execution_count": 75,
   "id": "d635a254",
   "metadata": {},
   "outputs": [],
   "source": [
    "for i in range(1,5):\n",
    "    url = \"https://www.practo.com/mumbai/psychiatrist?page=\"+str(i)\n",
    "    r= requests.get(url)\n",
    "    soup = BeautifulSoup(r.text, \"lxml\")\n",
    "    box= soup.find(\"div\", class_=\"pure-u-17-24 c-listing__left\")\n",
    "    name_= box.find_all(\"h2\",class_ = \"doctor-name\")\n",
    "    for i in name_:\n",
    "        name__=i.text\n",
    "        name8.append(name__)"
   ]
  },
  {
   "cell_type": "code",
   "execution_count": 76,
   "id": "5bfd2c54",
   "metadata": {},
   "outputs": [
    {
     "data": {
      "text/plain": [
       "36"
      ]
     },
     "execution_count": 76,
     "metadata": {},
     "output_type": "execute_result"
    }
   ],
   "source": [
    "len(name8)"
   ]
  },
  {
   "cell_type": "code",
   "execution_count": 77,
   "id": "de55ec6f",
   "metadata": {},
   "outputs": [],
   "source": [
    "for i in range(1,5):\n",
    "    url = \"https://www.practo.com/mumbai/psychiatrist?page=\"+str(i)\n",
    "    r= requests.get(url)\n",
    "    soup = BeautifulSoup(r.text, \"lxml\")\n",
    "    box= soup.find(\"div\", class_=\"pure-u-17-24 c-listing__left\")\n",
    "    ye_= box.find_all(\"div\",{'class' : \"uv2-spacer--xs-top\",'data-qa-id':\"doctor_experience\"})\n",
    "    for i in ye_:\n",
    "        ye__=i.text\n",
    "        year_of_experience8.append(ye__)"
   ]
  },
  {
   "cell_type": "code",
   "execution_count": 78,
   "id": "1ce6972d",
   "metadata": {},
   "outputs": [
    {
     "data": {
      "text/plain": [
       "36"
      ]
     },
     "execution_count": 78,
     "metadata": {},
     "output_type": "execute_result"
    }
   ],
   "source": [
    "len(year_of_experience8)"
   ]
  },
  {
   "cell_type": "code",
   "execution_count": 79,
   "id": "35fa2a0c",
   "metadata": {},
   "outputs": [],
   "source": [
    "for i in range(1,5):\n",
    "    url = \"https://www.practo.com/mumbai/psychiatrist?page=\"+str(i)\n",
    "    r= requests.get(url)\n",
    "    soup = BeautifulSoup(r.text, \"lxml\")\n",
    "    box= soup.find(\"div\", class_=\"pure-u-17-24 c-listing__left\")\n",
    "    loc_= box.find_all(\"div\",class_ = \"u-bold u-d-inlineblock u-valign--middle\")\n",
    "    for i in loc_:\n",
    "        loc__=i.text\n",
    "        location8.append(loc__)"
   ]
  },
  {
   "cell_type": "code",
   "execution_count": 80,
   "id": "d507ca12",
   "metadata": {},
   "outputs": [
    {
     "data": {
      "text/plain": [
       "36"
      ]
     },
     "execution_count": 80,
     "metadata": {},
     "output_type": "execute_result"
    }
   ],
   "source": [
    "len(location8)"
   ]
  },
  {
   "cell_type": "code",
   "execution_count": 81,
   "id": "2d8870e3",
   "metadata": {},
   "outputs": [],
   "source": [
    "for i in range(1,5):\n",
    "    url = \"https://www.practo.com/mumbai/psychiatrist?page=\"+str(i)\n",
    "    r= requests.get(url)\n",
    "    soup = BeautifulSoup(r.text, \"lxml\")\n",
    "    box= soup.find(\"div\", class_=\"pure-u-17-24 c-listing__left\")\n",
    "    fee_= box.find_all(\"span\",{'data-qa-id' : \"consultation_fee\"})\n",
    "    for i in fee_:\n",
    "        fee__=i.text\n",
    "        consult_fee8.append(fee__)"
   ]
  },
  {
   "cell_type": "code",
   "execution_count": 82,
   "id": "2b60a4aa",
   "metadata": {},
   "outputs": [
    {
     "data": {
      "text/plain": [
       "36"
      ]
     },
     "execution_count": 82,
     "metadata": {},
     "output_type": "execute_result"
    }
   ],
   "source": [
    "len(consult_fee8)"
   ]
  },
  {
   "cell_type": "code",
   "execution_count": 83,
   "id": "7e28803e",
   "metadata": {},
   "outputs": [],
   "source": [
    "df8= pd.DataFrame({\"Name\":name8,\"Years of experience\":year_of_experience8,\n",
    "                  \"Location\":location8,\"Consultation fee\":consult_fee8})"
   ]
  },
  {
   "cell_type": "code",
   "execution_count": 84,
   "id": "4a431c9e",
   "metadata": {},
   "outputs": [],
   "source": [
    "df8.to_csv(\"Downloads/MUMBAIPSYCHIATRIST.csv\")"
   ]
  },
  {
   "cell_type": "code",
   "execution_count": 85,
   "id": "f3140936",
   "metadata": {},
   "outputs": [],
   "source": [
    "name9=[]\n",
    "speciality_of_doctor9=[]\n",
    "year_of_experience9=[]\n",
    "location9=[]\n",
    "city9=[]\n",
    "consult_fee9=[]"
   ]
  },
  {
   "cell_type": "code",
   "execution_count": 88,
   "id": "8e1ea743",
   "metadata": {},
   "outputs": [],
   "source": [
    "for i in range(1,3):\n",
    "    url = \"https://www.practo.com/mumbai/neurologist?page=\"+str(i)\n",
    "    r= requests.get(url)\n",
    "    soup = BeautifulSoup(r.text, \"lxml\")\n",
    "    box= soup.find(\"div\", class_=\"pure-u-17-24 c-listing__left\")\n",
    "    name_= box.find_all(\"h2\",class_ = \"doctor-name\")\n",
    "    for i in name_:\n",
    "        name__=i.text\n",
    "        name9.append(name__)"
   ]
  },
  {
   "cell_type": "code",
   "execution_count": 89,
   "id": "246a7eb2",
   "metadata": {},
   "outputs": [
    {
     "data": {
      "text/plain": [
       "20"
      ]
     },
     "execution_count": 89,
     "metadata": {},
     "output_type": "execute_result"
    }
   ],
   "source": [
    "len(name9)"
   ]
  },
  {
   "cell_type": "code",
   "execution_count": 90,
   "id": "513f4379",
   "metadata": {},
   "outputs": [],
   "source": [
    "for i in range(1,3):\n",
    "    url = \"https://www.practo.com/mumbai/neurologist?page=\"+str(i)\n",
    "    r= requests.get(url)\n",
    "    soup = BeautifulSoup(r.text, \"lxml\")\n",
    "    box= soup.find(\"div\", class_=\"pure-u-17-24 c-listing__left\")\n",
    "    ye_= box.find_all(\"div\",{'class' : \"uv2-spacer--xs-top\",'data-qa-id':\"doctor_experience\"})\n",
    "    for i in ye_:\n",
    "        ye__=i.text\n",
    "        year_of_experience9.append(ye__)"
   ]
  },
  {
   "cell_type": "code",
   "execution_count": 91,
   "id": "722d2ba1",
   "metadata": {},
   "outputs": [
    {
     "data": {
      "text/plain": [
       "20"
      ]
     },
     "execution_count": 91,
     "metadata": {},
     "output_type": "execute_result"
    }
   ],
   "source": [
    "len(year_of_experience9)"
   ]
  },
  {
   "cell_type": "code",
   "execution_count": 92,
   "id": "b9cfa094",
   "metadata": {},
   "outputs": [],
   "source": [
    "for i in range(1,3):\n",
    "    url = \"https://www.practo.com/mumbai/neurologist?page=\"+str(i)\n",
    "    r= requests.get(url)\n",
    "    soup = BeautifulSoup(r.text, \"lxml\")\n",
    "    box= soup.find(\"div\", class_=\"pure-u-17-24 c-listing__left\")\n",
    "    loc_= box.find_all(\"div\",class_ = \"u-bold u-d-inlineblock u-valign--middle\")\n",
    "    for i in loc_:\n",
    "        loc__=i.text\n",
    "        location9.append(loc__)"
   ]
  },
  {
   "cell_type": "code",
   "execution_count": 93,
   "id": "28d7cc7e",
   "metadata": {},
   "outputs": [
    {
     "data": {
      "text/plain": [
       "20"
      ]
     },
     "execution_count": 93,
     "metadata": {},
     "output_type": "execute_result"
    }
   ],
   "source": [
    "len(location9)"
   ]
  },
  {
   "cell_type": "code",
   "execution_count": 94,
   "id": "a7157cf9",
   "metadata": {},
   "outputs": [],
   "source": [
    "for i in range(1,3):\n",
    "    url = \"https://www.practo.com/mumbai/neurologist?page=\"+str(i)\n",
    "    r= requests.get(url)\n",
    "    soup = BeautifulSoup(r.text, \"lxml\")\n",
    "    box= soup.find(\"div\", class_=\"pure-u-17-24 c-listing__left\")\n",
    "    fee_= box.find_all(\"span\",{'data-qa-id' : \"consultation_fee\"})\n",
    "    for i in fee_:\n",
    "        fee__=i.text\n",
    "        consult_fee9.append(fee__)"
   ]
  },
  {
   "cell_type": "code",
   "execution_count": 95,
   "id": "a2b63980",
   "metadata": {},
   "outputs": [
    {
     "data": {
      "text/plain": [
       "20"
      ]
     },
     "execution_count": 95,
     "metadata": {},
     "output_type": "execute_result"
    }
   ],
   "source": [
    "len(consult_fee9)"
   ]
  },
  {
   "cell_type": "code",
   "execution_count": 96,
   "id": "da76ec41",
   "metadata": {},
   "outputs": [],
   "source": [
    "df9= pd.DataFrame({\"Name\":name9,\"Years of experience\":year_of_experience9,\n",
    "                  \"Location\":location9,\"Consultation fee\":consult_fee9})"
   ]
  },
  {
   "cell_type": "code",
   "execution_count": 97,
   "id": "1f9ae6d9",
   "metadata": {},
   "outputs": [],
   "source": [
    "df9.to_csv(\"Downloads/MUMBAINEUROLOGIST.csv\")"
   ]
  }
 ],
 "metadata": {
  "kernelspec": {
   "display_name": "Python 3 (ipykernel)",
   "language": "python",
   "name": "python3"
  },
  "language_info": {
   "codemirror_mode": {
    "name": "ipython",
    "version": 3
   },
   "file_extension": ".py",
   "mimetype": "text/x-python",
   "name": "python",
   "nbconvert_exporter": "python",
   "pygments_lexer": "ipython3",
   "version": "3.9.13"
  }
 },
 "nbformat": 4,
 "nbformat_minor": 5
}
